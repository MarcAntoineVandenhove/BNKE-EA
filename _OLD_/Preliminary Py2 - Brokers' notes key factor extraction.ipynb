{
 "cells": [
  {
   "cell_type": "markdown",
   "metadata": {},
   "source": [
    "# Preliminary - Brokers' notes key factor extraction\n",
    "17/04/2018 @MAV Python 2 (for compatibility with PDFMiner)\n",
    "<br><br>Introduction: This notebook is a first attempt at extracting the key factors influencing stock variations according to major brokers' notes.\n",
    "<br>--"
   ]
  },
  {
   "cell_type": "markdown",
   "metadata": {},
   "source": [
    "Load all necessary packages and modules"
   ]
  },
  {
   "cell_type": "code",
   "execution_count": 101,
   "metadata": {
    "scrolled": true
   },
   "outputs": [],
   "source": [
    "#Check which kernel is active, if iPython kernel agrees w/ where the modules have been installed, proceed\n",
    "#Otherwise run ipython2 notebook\n",
    "#import sys\n",
    "#print(sys.path)\n",
    "import pandas as pd\n",
    "import numpy as np\n",
    "import pdfminer\n",
    "from pdfminer.layout import LAParams\n",
    "from pdfminer.converter import PDFPageAggregator\n",
    "from pdfminer.pdfinterp import PDFResourceManager, PDFPageInterpreter\n",
    "from pdfminer.pdfpage import PDFPage\n",
    "from pdfminer.layout import LTTextBoxHorizontal"
   ]
  },
  {
   "cell_type": "markdown",
   "metadata": {},
   "source": [
    "Open and load PDF file"
   ]
  },
  {
   "cell_type": "code",
   "execution_count": 125,
   "metadata": {},
   "outputs": [],
   "source": [
    "myFilePath=\"/home/marcantoine/Téléchargements/JPMorgan_NokiaMoreroomtorun-InitiatingatOverweight_Jun_13,_2007.pdf\"\n",
    "myPDF=open(myFilePath,'rb')"
   ]
  },
  {
   "cell_type": "markdown",
   "metadata": {},
   "source": [
    "Parse PDF and convert to strings in numpy array"
   ]
  },
  {
   "cell_type": "code",
   "execution_count": 129,
   "metadata": {},
   "outputs": [],
   "source": [
    "def myPDF2Text(PDFInput):\n",
    "    TextOutput=[]\n",
    "    #Create resource manager\n",
    "    rsrcmgr = PDFResourceManager()\n",
    "    # Set parameters for analysis.\n",
    "    laparams = LAParams()\n",
    "    # Create a PDF page aggregator object.\n",
    "    device = PDFPageAggregator(rsrcmgr, laparams=laparams)\n",
    "    interpreter = PDFPageInterpreter(rsrcmgr, device)\n",
    "    for page in PDFPage.get_pages(PDFInput):\n",
    "        interpreter.process_page(page)\n",
    "    #Receive the LTPage object for the page.\n",
    "        layout = device.get_result()\n",
    "        for element in layout:\n",
    "            if isinstance(element, LTTextBoxHorizontal):\n",
    "                TextOutput.append(element.get_text())\n",
    "    #Insert break command to limit to the first page    \n",
    "        break\n",
    "    return TextOutput\n",
    "#Create numpy array instance holding all the data\n",
    "myText=np.array(myPDF2Text(myPDF))"
   ]
  },
  {
   "cell_type": "code",
   "execution_count": 130,
   "metadata": {},
   "outputs": [
    {
     "data": {
      "text/plain": [
       "array([u'Global Equity Research \\n13 June 2007 \\n', u' \\n',\n",
       "       u'Nokia \\nMore room to run - Initiating at Overweight \\n',\n",
       "       u\"We are initiating coverage of Nokia with an Overweight rating, setting a \\u20ac25 \\nprice  target  as  we  believe  Nokia  is  at  the  beginning  of  a  multi-year  product \\ncycle in high-end multimedia and 3G handsets against the backdrop of a still \\nstrong global handset market.  With margins at the low end remaining stable \\ndue to a receding Motorola and a replacement cycle in emerging markets, and \\nthe  potential  for  a  turnaround  in  NOK's  US  share,  we  believe  the  bias  to \\nnumbers remains on the upside for the foreseeable future.  \\n\",\n",
       "       u'\\u2022  We believe the handset market remains strong growing 17% in 2007 7 \\npoints higher than Nokia\\u2019s own 10% guidance and supporting our 20% unit \\nvolume growth estimate for Nokia. \\n',\n",
       "       u\"\\u2022  Mobile Phones gross margins should expand 200 bps to 31.4% in '07 as \\n#2  Motorola  backs  down  from  aggressive  pricing  and  as  emerging  market \\nreplacement units overtake net new sub add units this year. \\n\",\n",
       "       u'\\u2022  Surging 3G volumes in Europe where Nokia is strongest and growth in \\nMultimedia  should  bolster  ASP  and  margins  as  we  are  modeling \\nMultimedia  op  margins  expanding  to  21.3%  in  \\u201909  from  16.7%  in  \\u201906 \\noffsetting the slowing drag from further growth in Emerging Markets. \\n',\n",
       "       u\"\\u2022  Upside  surprise  over  the  next  12-18  months  could  come  from  NOK's \\nnew  US  strategy  of  working  closely  with  US  carriers  on  models  targeted \\njust for the US rather than exporting Euro models westward. \\n\",\n",
       "       u\"\\u2022  Nokia trades at 15.1x our \\u201908 EPS estimate of \\u20ac1.38 and at 1.4x EV/rev \\non our \\u20ac56.7B '08 revenue estimate vs. comps at 19.8x and 1.9x making it \\nstill reasonably priced and with op margins moving up across the board in all \\n3  handset  divisions,  a  strong  handset  market,  and  only  upside  potential  in \\nNetworks, we believe numbers keep moving up. \\n\",\n",
       "       u'Initiation \\nOverweight \\n\\u20ac20.78 \\n12 June 2007 \\nPrice Target: \\u20ac25.00 \\n',\n",
       "       u'US Communications \\nTechnologies \\nEhud A. Gelblum, PhDAC \\n(1-212) 622-6457 \\nehud.gelblum@jpmorgan.com \\nIan J. Kahn, CFA \\n(1-212) 622-6728 \\nian.j.kahn@jpmorgan.com \\nEuropean Communications \\nTechnologies \\nRod Hall, CFAAC \\n(44-20) 7325-7437 \\nrod.b.hall@jpmorgan.com \\n',\n",
       "       u' \\n', u'    \\n', u'Price Performance\\n', u'22\\n', u'20\\n',\n",
       "       u'\\u20ac\\n', u'18\\n', u'16\\n', u'14\\n', u'Jun-06\\n', u'Sep-06\\n',\n",
       "       u'Dec-06\\n', u'Mar-07\\n', u'Jun-07\\n', u' \\n', u'YTD \\n',\n",
       "       u'-1M \\n', u'-3M \\n', u'-12M \\n', u'Absolute 36.6% \\n',\n",
       "       u'14.8% \\n', u'27.4% \\n', u'34.4% \\n',\n",
       "       u'Source: RIMES, Reuters. \\n', u'2005A\\n',\n",
       "       u'Nokia (NOK1V.HE;NOK1V FH) \\n \\n2004A\\nEPS (\\u20ac) \\n0.19\\n  Q1 (Mar) \\n0.17\\n  Q2 (Jun) \\n0.18\\n  Q3 (Sep) \\n0.25\\n  Q4 (Dec) \\n  FY \\n0.78\\nSource: Company data, Reuters, JPMorgan estimates. \\n',\n",
       "       u'0.16\\n0.12\\n0.15\\n0.23\\n0.66\\n', u' \\n', u'2006A\\n', u'2007E\\n',\n",
       "       u'2008E\\n', u'0.26\\n0.23\\n0.23\\n0.32\\n1.03\\n',\n",
       "       u'0.26A\\n0.29A\\n0.31A\\n0.38A\\n1.24A\\n',\n",
       "       u'0.31\\n0.34\\n0.35\\n0.38\\n1.38\\n',\n",
       "       u'Company Data \\nPrice (\\u20ac) \\nDate Of Price \\n52-week Range (\\u20ac) \\nMkt Cap (\\u20ac mn) \\nFiscal Year End \\nShares O/S (mn) \\nPrice Target (\\u20ac) \\nPrice Target End Date \\n \\n',\n",
       "       u'20.78\\n12 Jun 07\\n21.24 - 14.57\\n85,052.54\\nDec\\n4,093\\n25.00\\n30 Jun 08\\n',\n",
       "       u' \\n', u' \\nwww.morganmarkets.com \\n',\n",
       "       u'J.P. Morgan Securities Inc.\\nJ.P. Morgan Securities Ltd.\\nSee page 38 for analyst certification and important disclosures, including investment banking relationships.\\nJPMorgan does and seeks to do business with companies covered in its research reports. As a result, investors should be aware that the firm \\nmay have a conflict of interest that could affect the objectivity of this report. Investors should consider this report as only a single factor in \\nmaking their investment decision.  Customers of JPMorgan in the United States can receive independent, third-party research on the company \\nor companies covered in this report, at no cost to them, where such research is available.  Customers can access this independent research at \\nwww.morganmarkets.com or can call 1-800-477-0406 toll free to request a copy of this research. \\n'],\n",
       "      dtype='<U833')"
      ]
     },
     "execution_count": 130,
     "metadata": {},
     "output_type": "execute_result"
    }
   ],
   "source": [
    "myText"
   ]
  },
  {
   "cell_type": "markdown",
   "metadata": {},
   "source": [
    "Clean the resulting data"
   ]
  },
  {
   "cell_type": "code",
   "execution_count": 96,
   "metadata": {},
   "outputs": [],
   "source": [
    "#Remove remaining line breaks \"\\n\" within paragraphs\n",
    "i=0;\n",
    "for paragraph in rawText:\n",
    "    rawText[i]=paragraph.replace(\"\\n\",'')\n",
    "    i+=1"
   ]
  },
  {
   "cell_type": "code",
   "execution_count": 97,
   "metadata": {},
   "outputs": [
    {
     "data": {
      "text/plain": [
       "array([u'Global Equity Research 13 June 2007 ', u' ',\n",
       "       u'Nokia More room to run - Initiating at Overweight ',\n",
       "       u\"We are initiating coverage of Nokia with an Overweight rating, setting a \\u20ac25 price  target  as  we  believe  Nokia  is  at  the  beginning  of  a  multi-year  product cycle in high-end multimedia and 3G handsets against the backdrop of a still strong global handset market.  With margins at the low end remaining stable due to a receding Motorola and a replacement cycle in emerging markets, and the  potential  for  a  turnaround  in  NOK's  US  share,  we  believe  the  bias  to numbers remains on the upside for the foreseeable future.  \",\n",
       "       u'\\u2022  We believe the handset market remains strong growing 17% in 2007 7 points higher than Nokia\\u2019s own 10% guidance and supporting our 20% unit volume growth estimate for Nokia. ',\n",
       "       u\"\\u2022  Mobile Phones gross margins should expand 200 bps to 31.4% in '07 as #2  Motorola  backs  down  from  aggressive  pricing  and  as  emerging  market replacement units overtake net new sub add units this year. \",\n",
       "       u'\\u2022  Surging 3G volumes in Europe where Nokia is strongest and growth in Multimedia  should  bolster  ASP  and  margins  as  we  are  modeling Multimedia  op  margins  expanding  to  21.3%  in  \\u201909  from  16.7%  in  \\u201906 offsetting the slowing drag from further growth in Emerging Markets. ',\n",
       "       u\"\\u2022  Upside  surprise  over  the  next  12-18  months  could  come  from  NOK's new  US  strategy  of  working  closely  with  US  carriers  on  models  targeted just for the US rather than exporting Euro models westward. \",\n",
       "       u\"\\u2022  Nokia trades at 15.1x our \\u201908 EPS estimate of \\u20ac1.38 and at 1.4x EV/rev on our \\u20ac56.7B '08 revenue estimate vs. comps at 19.8x and 1.9x making it still reasonably priced and with op margins moving up across the board in all 3  handset  divisions,  a  strong  handset  market,  and  only  upside  potential  in Networks, we believe numbers keep moving up. \",\n",
       "       u'Initiation Overweight \\u20ac20.78 12 June 2007 Price Target: \\u20ac25.00 ',\n",
       "       u'US Communications Technologies Ehud A. Gelblum, PhDAC (1-212) 622-6457 ehud.gelblum@jpmorgan.com Ian J. Kahn, CFA (1-212) 622-6728 ian.j.kahn@jpmorgan.com European Communications Technologies Rod Hall, CFAAC (44-20) 7325-7437 rod.b.hall@jpmorgan.com ',\n",
       "       u' ', u'    ', u'Price Performance', u'22', u'20', u'\\u20ac',\n",
       "       u'18', u'16', u'14', u'Jun-06', u'Sep-06', u'Dec-06', u'Mar-07',\n",
       "       u'Jun-07', u' ', u'YTD ', u'-1M ', u'-3M ', u'-12M ',\n",
       "       u'Absolute 36.6% ', u'14.8% ', u'27.4% ', u'34.4% ',\n",
       "       u'Source: RIMES, Reuters. ', u'2005A',\n",
       "       u'Nokia (NOK1V.HE;NOK1V FH)  2004AEPS (\\u20ac) 0.19  Q1 (Mar) 0.17  Q2 (Jun) 0.18  Q3 (Sep) 0.25  Q4 (Dec)   FY 0.78Source: Company data, Reuters, JPMorgan estimates. ',\n",
       "       u'0.160.120.150.230.66', u' ', u'2006A', u'2007E', u'2008E',\n",
       "       u'0.260.230.230.321.03', u'0.26A0.29A0.31A0.38A1.24A',\n",
       "       u'0.310.340.350.381.38',\n",
       "       u'Company Data Price (\\u20ac) Date Of Price 52-week Range (\\u20ac) Mkt Cap (\\u20ac mn) Fiscal Year End Shares O/S (mn) Price Target (\\u20ac) Price Target End Date  ',\n",
       "       u'20.7812 Jun 0721.24 - 14.5785,052.54Dec4,09325.0030 Jun 08',\n",
       "       u' ', u' www.morganmarkets.com ',\n",
       "       u'J.P. Morgan Securities Inc.J.P. Morgan Securities Ltd.See page 38 for analyst certification and important disclosures, including investment banking relationships.JPMorgan does and seeks to do business with companies covered in its research reports. As a result, investors should be aware that the firm may have a conflict of interest that could affect the objectivity of this report. Investors should consider this report as only a single factor in making their investment decision.  Customers of JPMorgan in the United States can receive independent, third-party research on the company or companies covered in this report, at no cost to them, where such research is available.  Customers can access this independent research at www.morganmarkets.com or can call 1-800-477-0406 toll free to request a copy of this research. '],\n",
       "      dtype='<U833')"
      ]
     },
     "execution_count": 97,
     "metadata": {},
     "output_type": "execute_result"
    }
   ],
   "source": [
    "rawText"
   ]
  },
  {
   "cell_type": "code",
   "execution_count": null,
   "metadata": {},
   "outputs": [],
   "source": []
  }
 ],
 "metadata": {
  "kernelspec": {
   "display_name": "Python 2",
   "language": "python",
   "name": "python2"
  },
  "language_info": {
   "codemirror_mode": {
    "name": "ipython",
    "version": 2
   },
   "file_extension": ".py",
   "mimetype": "text/x-python",
   "name": "python",
   "nbconvert_exporter": "python",
   "pygments_lexer": "ipython2",
   "version": "2.7.12"
  }
 },
 "nbformat": 4,
 "nbformat_minor": 2
}
