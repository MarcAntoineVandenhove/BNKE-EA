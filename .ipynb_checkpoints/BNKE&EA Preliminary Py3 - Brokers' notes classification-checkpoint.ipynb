{
 "cells": [
  {
   "cell_type": "markdown",
   "metadata": {},
   "source": [
    "# BNKE&EA Preliminary - Brokers' notes classification and clustering\n",
    "\n",
    "18/04/2018 @MAV Python 3 (compatible with PyPDF2)\n",
    "<br><br>Introduction: This notebook is a first attempt at classifying brokers' notes betwwen categories (single stock, sector, macroeconomy ...) and sub-categories (Capital, human resources, outstanding event ...).\n",
    "<br>--"
   ]
  },
  {
   "cell_type": "code",
   "execution_count": 2,
   "metadata": {},
   "outputs": [],
   "source": [
    "import os\n",
    "import time\n",
    "import re\n",
    "\n",
    "import pandas as pd\n",
    "import numpy as np\n",
    "import scipy\n",
    "import sklearn\n",
    "from sklearn.decomposition import PCA, TruncatedSVD\n",
    "from sklearn.manifold import TSNE\n",
    "from sklearn.svm import SVC\n",
    "\n",
    "import matplotlib\n",
    "import matplotlib.pyplot as plt\n",
    "import matplotlib.patches as mpatches\n",
    "from mpl_toolkits.mplot3d import Axes3D\n",
    "\n",
    "import nltk\n",
    "import spacy\n",
    "\n",
    "import PyPDF2"
   ]
  },
  {
   "cell_type": "markdown",
   "metadata": {},
   "source": [
    "Construct PDF database as a Panda DataFrame from Numpy array"
   ]
  },
  {
   "cell_type": "code",
   "execution_count": 21,
   "metadata": {},
   "outputs": [],
   "source": [
    "#This function takes a folder path as an argument, scans for PDFs and returns a dataframe with metadata\n",
    "def myDataFrameCreator(myFolderPath,myType):\n",
    "    columns=[\"name_file\",\"size_file\",\"name_author\",\"name_category\",\"name_company\",\"date_creation\",\"name_topic\",\"title_document\",\"count_pages\",\"type_isSingleStock\"]\n",
    "    myDFWidth=len(columns)\n",
    "    myDataFrame=pd.DataFrame(index=[],columns=columns)\n",
    "    for myFile in os.listdir(myFolderPath):\n",
    "        fileExtension = os.path.splitext(myFile)[1]\n",
    "        if fileExtension=='.pdf':\n",
    "            #Initializing Numpy array and storing basic file data\n",
    "            try:\n",
    "                myInfo=np.array([os.path.basename(myFile)[:-4],os.stat(myFolderPath+'/'+myFile).st_size])\n",
    "                myPDFReader=PyPDF2.PdfFileReader(open(myFolderPath+'/'+myFile,'rb'),strict=False)\n",
    "                #Adding metadata if available\n",
    "                for key in ['/Author','/Category','/Company','/CreationDate', '/Subject','/Title']:\n",
    "                    myInfo=np.append(myInfo,[myPDFReader.getDocumentInfo().get(key)])\n",
    "                #Adding inside PDF data\n",
    "                pagesCount=myPDFReader.numPages\n",
    "                myInfo=np.append(myInfo,[pagesCount,myType])\n",
    "                #Adding current file info to global DataFrame\n",
    "                myDataFrame.loc[len(myDataFrame)]=myInfo\n",
    "            except:\n",
    "                pass\n",
    "    return myDataFrame"
   ]
  },
  {
   "cell_type": "code",
   "execution_count": 22,
   "metadata": {},
   "outputs": [],
   "source": [
    "#True are \"Single stock\" related notes\n",
    "myFolderPath_False=\"/media/sf_Shared/Project_BNKE-EA/Database/Documents_NotesBroker_20180416/IsNot_SingleStock\"\n",
    "myFolderPath_True=\"/media/sf_Shared/Project_BNKE-EA/Database/Documents_NotesBroker_20180416/Is_SingleStock\""
   ]
  },
  {
   "cell_type": "code",
   "execution_count": 23,
   "metadata": {},
   "outputs": [
    {
     "name": "stdout",
     "output_type": "stream",
     "text": [
      "Runtime is 7.981964826583862s\n"
     ]
    }
   ],
   "source": [
    "startTime=time.time()\n",
    "myDataFrame_False=myDataFrameCreator(myFolderPath_False,False)\n",
    "print(\"Runtime is \"+ str(time.time()-startTime) + \"s\")"
   ]
  },
  {
   "cell_type": "code",
   "execution_count": 24,
   "metadata": {
    "scrolled": true
   },
   "outputs": [
    {
     "name": "stdout",
     "output_type": "stream",
     "text": [
      "Runtime is 7.486592531204224s\n"
     ]
    }
   ],
   "source": [
    "startTime=time.time()\n",
    "myDataFrame_True=myDataFrameCreator(myFolderPath_True,True)\n",
    "print(\"Runtime is \"+ str(time.time()-startTime) + \"s\")"
   ]
  },
  {
   "cell_type": "code",
   "execution_count": 32,
   "metadata": {},
   "outputs": [
    {
     "data": {
      "text/html": [
       "<div>\n",
       "<style scoped>\n",
       "    .dataframe tbody tr th:only-of-type {\n",
       "        vertical-align: middle;\n",
       "    }\n",
       "\n",
       "    .dataframe tbody tr th {\n",
       "        vertical-align: top;\n",
       "    }\n",
       "\n",
       "    .dataframe thead th {\n",
       "        text-align: right;\n",
       "    }\n",
       "</style>\n",
       "<table border=\"1\" class=\"dataframe\">\n",
       "  <thead>\n",
       "    <tr style=\"text-align: right;\">\n",
       "      <th></th>\n",
       "      <th>name_file</th>\n",
       "      <th>size_file</th>\n",
       "      <th>name_author</th>\n",
       "      <th>name_category</th>\n",
       "      <th>name_company</th>\n",
       "      <th>date_creation</th>\n",
       "      <th>name_topic</th>\n",
       "      <th>title_document</th>\n",
       "      <th>count_pages</th>\n",
       "      <th>type_isSingleStock</th>\n",
       "    </tr>\n",
       "  </thead>\n",
       "  <tbody>\n",
       "    <tr>\n",
       "      <th>0</th>\n",
       "      <td>MorganStanley_VideoThailandSpectrumAuction2018...</td>\n",
       "      <td>253222</td>\n",
       "      <td>None</td>\n",
       "      <td>None</td>\n",
       "      <td>None</td>\n",
       "      <td>D:20180419022651-04'00'</td>\n",
       "      <td>None</td>\n",
       "      <td>None</td>\n",
       "      <td>8</td>\n",
       "      <td>0</td>\n",
       "    </tr>\n",
       "    <tr>\n",
       "      <th>1</th>\n",
       "      <td>MorganStanley_WeekAheadinLatinAmericaMexicoCha...</td>\n",
       "      <td>578769</td>\n",
       "      <td>None</td>\n",
       "      <td>None</td>\n",
       "      <td>None</td>\n",
       "      <td>D:20180419205608-04'00'</td>\n",
       "      <td>None</td>\n",
       "      <td>Week Ahead in Latin America: Mexico: Challengi...</td>\n",
       "      <td>22</td>\n",
       "      <td>0</td>\n",
       "    </tr>\n",
       "    <tr>\n",
       "      <th>2</th>\n",
       "      <td>SanfordCBernsteinCo,LLC_BTWAsiaTheHighTeakRevo...</td>\n",
       "      <td>815342</td>\n",
       "      <td>Michael W. Parker</td>\n",
       "      <td>None</td>\n",
       "      <td>None</td>\n",
       "      <td>D:20180420071745</td>\n",
       "      <td></td>\n",
       "      <td>BTW Asia: The High Teak Revolution... India's ...</td>\n",
       "      <td>29</td>\n",
       "      <td>0</td>\n",
       "    </tr>\n",
       "    <tr>\n",
       "      <th>3</th>\n",
       "      <td>SanfordCBernsteinCo,LLC_USPortfolioStrategyApr...</td>\n",
       "      <td>413472</td>\n",
       "      <td>Noah Weisberger</td>\n",
       "      <td>None</td>\n",
       "      <td>None</td>\n",
       "      <td>D:20180418215455</td>\n",
       "      <td></td>\n",
       "      <td>US Portfolio Strategy: April Market Essentials...</td>\n",
       "      <td>11</td>\n",
       "      <td>0</td>\n",
       "    </tr>\n",
       "    <tr>\n",
       "      <th>4</th>\n",
       "      <td>MorganStanley_MajorPharmaceuticalsBariFDApanel...</td>\n",
       "      <td>270499</td>\n",
       "      <td>None</td>\n",
       "      <td>None</td>\n",
       "      <td>None</td>\n",
       "      <td>D:20180419093159-04'00'</td>\n",
       "      <td>None</td>\n",
       "      <td>Major Pharmaceuticals: Bari FDA panel doc rais...</td>\n",
       "      <td>11</td>\n",
       "      <td>0</td>\n",
       "    </tr>\n",
       "    <tr>\n",
       "      <th>5</th>\n",
       "      <td>MorganStanley_MarineTransportationLookforNear-...</td>\n",
       "      <td>1270482</td>\n",
       "      <td>None</td>\n",
       "      <td>None</td>\n",
       "      <td>None</td>\n",
       "      <td>D:20180420030327-04'00'</td>\n",
       "      <td>None</td>\n",
       "      <td>Marine Transportation: Look for Near-term Rebo...</td>\n",
       "      <td>26</td>\n",
       "      <td>0</td>\n",
       "    </tr>\n",
       "    <tr>\n",
       "      <th>6</th>\n",
       "      <td>MorganStanley_MaterialsSectorStrategyVol59Watc...</td>\n",
       "      <td>1522851</td>\n",
       "      <td>None</td>\n",
       "      <td>None</td>\n",
       "      <td>None</td>\n",
       "      <td>D:20180420071737-04'00'</td>\n",
       "      <td>None</td>\n",
       "      <td>Materials Sector Strategy Vol. 59: Watching fo...</td>\n",
       "      <td>23</td>\n",
       "      <td>0</td>\n",
       "    </tr>\n",
       "    <tr>\n",
       "      <th>7</th>\n",
       "      <td>MorganStanley_MediaCableSatelliteSelectedTradi...</td>\n",
       "      <td>3646098</td>\n",
       "      <td>None</td>\n",
       "      <td>None</td>\n",
       "      <td>None</td>\n",
       "      <td>D:20180418070302-04'00'</td>\n",
       "      <td>None</td>\n",
       "      <td>Media &amp; Cable/Satellite: Selected Trading Mult...</td>\n",
       "      <td>16</td>\n",
       "      <td>0</td>\n",
       "    </tr>\n",
       "    <tr>\n",
       "      <th>8</th>\n",
       "      <td>MorganStanley_MedTechServicesGlobalMedTechWeek...</td>\n",
       "      <td>6829591</td>\n",
       "      <td>None</td>\n",
       "      <td>None</td>\n",
       "      <td>None</td>\n",
       "      <td>D:20180416104045-04'00'</td>\n",
       "      <td>None</td>\n",
       "      <td>MedTech &amp; Services: Global MedTech Weekly</td>\n",
       "      <td>45</td>\n",
       "      <td>0</td>\n",
       "    </tr>\n",
       "    <tr>\n",
       "      <th>9</th>\n",
       "      <td>MorganStanley_Mid-CapExplorationProductionRoom...</td>\n",
       "      <td>3477383</td>\n",
       "      <td>None</td>\n",
       "      <td>None</td>\n",
       "      <td>None</td>\n",
       "      <td>D:20180420014552-04'00'</td>\n",
       "      <td>None</td>\n",
       "      <td>Mid-Cap Exploration &amp; Production: Room to Run:...</td>\n",
       "      <td>27</td>\n",
       "      <td>0</td>\n",
       "    </tr>\n",
       "    <tr>\n",
       "      <th>10</th>\n",
       "      <td>MorganStanley_MidcapBanksASB1Q18EarningsTakeaw...</td>\n",
       "      <td>943620</td>\n",
       "      <td>None</td>\n",
       "      <td>None</td>\n",
       "      <td>None</td>\n",
       "      <td>D:20180419191952-04'00'</td>\n",
       "      <td>None</td>\n",
       "      <td>None</td>\n",
       "      <td>27</td>\n",
       "      <td>0</td>\n",
       "    </tr>\n",
       "    <tr>\n",
       "      <th>11</th>\n",
       "      <td>MorganStanley_MidcapBanksCFG1Q18EarningsTakeaw...</td>\n",
       "      <td>992934</td>\n",
       "      <td>None</td>\n",
       "      <td>None</td>\n",
       "      <td>None</td>\n",
       "      <td>D:20180420082538-04'00'</td>\n",
       "      <td>None</td>\n",
       "      <td>None</td>\n",
       "      <td>28</td>\n",
       "      <td>0</td>\n",
       "    </tr>\n",
       "    <tr>\n",
       "      <th>12</th>\n",
       "      <td>MorganStanley_MidcapBanksCMA1Q18EarningsTakeaw...</td>\n",
       "      <td>653120</td>\n",
       "      <td>None</td>\n",
       "      <td>None</td>\n",
       "      <td>None</td>\n",
       "      <td>D:20180417101130-04'00'</td>\n",
       "      <td>None</td>\n",
       "      <td>None</td>\n",
       "      <td>17</td>\n",
       "      <td>0</td>\n",
       "    </tr>\n",
       "    <tr>\n",
       "      <th>13</th>\n",
       "      <td>MorganStanley_MidcapBanksKEY,SBNY,EWBC,WBS,and...</td>\n",
       "      <td>917220</td>\n",
       "      <td>None</td>\n",
       "      <td>None</td>\n",
       "      <td>None</td>\n",
       "      <td>D:20180419121143-04'00'</td>\n",
       "      <td>None</td>\n",
       "      <td>None</td>\n",
       "      <td>27</td>\n",
       "      <td>0</td>\n",
       "    </tr>\n",
       "    <tr>\n",
       "      <th>14</th>\n",
       "      <td>MorganStanley_MidcapBanksMTB1Q18EarningsTakeaw...</td>\n",
       "      <td>617578</td>\n",
       "      <td>None</td>\n",
       "      <td>None</td>\n",
       "      <td>None</td>\n",
       "      <td>D:20180416095511-04'00'</td>\n",
       "      <td>None</td>\n",
       "      <td>None</td>\n",
       "      <td>20</td>\n",
       "      <td>0</td>\n",
       "    </tr>\n",
       "    <tr>\n",
       "      <th>15</th>\n",
       "      <td>MorganStanley_MidstreamWeeklyKinderMoreGain_Ap...</td>\n",
       "      <td>1423567</td>\n",
       "      <td>None</td>\n",
       "      <td>None</td>\n",
       "      <td>None</td>\n",
       "      <td>D:20180419233307-04'00'</td>\n",
       "      <td>None</td>\n",
       "      <td>Midstream Weekly: Kinder More Gain</td>\n",
       "      <td>19</td>\n",
       "      <td>0</td>\n",
       "    </tr>\n",
       "    <tr>\n",
       "      <th>16</th>\n",
       "      <td>MorganStanley_MorganStanleyFXPositioningTracke...</td>\n",
       "      <td>423857</td>\n",
       "      <td>None</td>\n",
       "      <td>None</td>\n",
       "      <td>None</td>\n",
       "      <td>D:20180416133809-04'00'</td>\n",
       "      <td>None</td>\n",
       "      <td>: Morgan Stanley FX Positioning Tracker</td>\n",
       "      <td>8</td>\n",
       "      <td>0</td>\n",
       "    </tr>\n",
       "    <tr>\n",
       "      <th>17</th>\n",
       "      <td>MorganStanley_NordicBanks1Q18-Whattowatchfor_A...</td>\n",
       "      <td>780343</td>\n",
       "      <td>None</td>\n",
       "      <td>None</td>\n",
       "      <td>None</td>\n",
       "      <td>D:20180418183442-04'00'</td>\n",
       "      <td>None</td>\n",
       "      <td>Nordic Banks: 1Q18 - What to watch for?</td>\n",
       "      <td>17</td>\n",
       "      <td>0</td>\n",
       "    </tr>\n",
       "    <tr>\n",
       "      <th>18</th>\n",
       "      <td>MorganStanley_NorthAmericaEnergyWillInvestorsR...</td>\n",
       "      <td>3063495</td>\n",
       "      <td>makf</td>\n",
       "      <td>None</td>\n",
       "      <td>None</td>\n",
       "      <td>D:20180418021158Z</td>\n",
       "      <td>None</td>\n",
       "      <td>MS_Print Design_North America Insight English</td>\n",
       "      <td>40</td>\n",
       "      <td>0</td>\n",
       "    </tr>\n",
       "    <tr>\n",
       "      <th>19</th>\n",
       "      <td>MorganStanley_OilDataDigestWeeklyOilStockSumma...</td>\n",
       "      <td>402056</td>\n",
       "      <td>None</td>\n",
       "      <td>None</td>\n",
       "      <td>None</td>\n",
       "      <td>D:20180419072049-04'00'</td>\n",
       "      <td>None</td>\n",
       "      <td>Oil Data Digest: Weekly Oil Stock Summary</td>\n",
       "      <td>8</td>\n",
       "      <td>0</td>\n",
       "    </tr>\n",
       "    <tr>\n",
       "      <th>20</th>\n",
       "      <td>MorganStanley_OilServicesStockPositioningfor1Q...</td>\n",
       "      <td>529332</td>\n",
       "      <td>None</td>\n",
       "      <td>None</td>\n",
       "      <td>None</td>\n",
       "      <td>D:20180417053809-04'00'</td>\n",
       "      <td>None</td>\n",
       "      <td>Oil Services: Stock Positioning for 1Q18 Results</td>\n",
       "      <td>20</td>\n",
       "      <td>0</td>\n",
       "    </tr>\n",
       "    <tr>\n",
       "      <th>21</th>\n",
       "      <td>MorganStanley_PharmaceuticalsImplicationsofJNJ...</td>\n",
       "      <td>238761</td>\n",
       "      <td>None</td>\n",
       "      <td>None</td>\n",
       "      <td>None</td>\n",
       "      <td>D:20180417083118-04'00'</td>\n",
       "      <td>None</td>\n",
       "      <td>Pharmaceuticals: Implications of JNJ's 2018-1Q...</td>\n",
       "      <td>9</td>\n",
       "      <td>0</td>\n",
       "    </tr>\n",
       "    <tr>\n",
       "      <th>22</th>\n",
       "      <td>MorganStanley_PodcastEuropeanMetalsMiningTrack...</td>\n",
       "      <td>302956</td>\n",
       "      <td>None</td>\n",
       "      <td>None</td>\n",
       "      <td>None</td>\n",
       "      <td>D:20180420054736-04'00'</td>\n",
       "      <td>None</td>\n",
       "      <td>Podcast | European Metals &amp; Mining Tracker: Fluid</td>\n",
       "      <td>10</td>\n",
       "      <td>0</td>\n",
       "    </tr>\n",
       "    <tr>\n",
       "      <th>23</th>\n",
       "      <td>MorganStanley_PodcastSustainabilityOilGasFutur...</td>\n",
       "      <td>256736</td>\n",
       "      <td>None</td>\n",
       "      <td>None</td>\n",
       "      <td>None</td>\n",
       "      <td>D:20180416071522-04'00'</td>\n",
       "      <td>None</td>\n",
       "      <td>Podcast | Sustainability &amp; Oil &amp; Gas: #Future ...</td>\n",
       "      <td>8</td>\n",
       "      <td>0</td>\n",
       "    </tr>\n",
       "    <tr>\n",
       "      <th>24</th>\n",
       "      <td>MorganStanley_PositionsandFlowsReport_Apr_17,_...</td>\n",
       "      <td>1112255</td>\n",
       "      <td>saxenbha</td>\n",
       "      <td>None</td>\n",
       "      <td>None</td>\n",
       "      <td>D:20161227211808+05'30'</td>\n",
       "      <td>None</td>\n",
       "      <td>PFR Front.xls</td>\n",
       "      <td>26</td>\n",
       "      <td>0</td>\n",
       "    </tr>\n",
       "    <tr>\n",
       "      <th>25</th>\n",
       "      <td>MorganStanley_ProteinWeeklyCommodityReportPork...</td>\n",
       "      <td>2143073</td>\n",
       "      <td>None</td>\n",
       "      <td>None</td>\n",
       "      <td>None</td>\n",
       "      <td>D:20180416101619-04'00'</td>\n",
       "      <td>None</td>\n",
       "      <td>Protein: Weekly Commodity Report: Pork Packer ...</td>\n",
       "      <td>16</td>\n",
       "      <td>0</td>\n",
       "    </tr>\n",
       "    <tr>\n",
       "      <th>26</th>\n",
       "      <td>MorganStanley_RealEstateStockSelectionforMajor...</td>\n",
       "      <td>281713</td>\n",
       "      <td>None</td>\n",
       "      <td>None</td>\n",
       "      <td>None</td>\n",
       "      <td>D:20180419230029-04'00'</td>\n",
       "      <td>None</td>\n",
       "      <td>Real Estate: Stock Selection for Major Develop...</td>\n",
       "      <td>10</td>\n",
       "      <td>0</td>\n",
       "    </tr>\n",
       "    <tr>\n",
       "      <th>27</th>\n",
       "      <td>MorganStanley_REITsRetailREITs1Q18EarningsPrev...</td>\n",
       "      <td>879060</td>\n",
       "      <td>None</td>\n",
       "      <td>None</td>\n",
       "      <td>None</td>\n",
       "      <td>D:20180418214446-04'00'</td>\n",
       "      <td>None</td>\n",
       "      <td>REITs: Retail REITs 1Q18 Earnings Preview - Wi...</td>\n",
       "      <td>21</td>\n",
       "      <td>0</td>\n",
       "    </tr>\n",
       "    <tr>\n",
       "      <th>28</th>\n",
       "      <td>MorganStanley_ResiCreditRiskTransferTracker-Ap...</td>\n",
       "      <td>777116</td>\n",
       "      <td>Ng, Jeen (Research)</td>\n",
       "      <td>None</td>\n",
       "      <td>None</td>\n",
       "      <td>D:20180419143211-04'00'</td>\n",
       "      <td>None</td>\n",
       "      <td>PowerPoint Presentation</td>\n",
       "      <td>39</td>\n",
       "      <td>0</td>\n",
       "    </tr>\n",
       "    <tr>\n",
       "      <th>29</th>\n",
       "      <td>MorganStanley_SABanksBalanceSheetPulseFebruary...</td>\n",
       "      <td>2964640</td>\n",
       "      <td>None</td>\n",
       "      <td>None</td>\n",
       "      <td>None</td>\n",
       "      <td>D:20180417121943-04'00'</td>\n",
       "      <td>None</td>\n",
       "      <td>None</td>\n",
       "      <td>31</td>\n",
       "      <td>0</td>\n",
       "    </tr>\n",
       "    <tr>\n",
       "      <th>...</th>\n",
       "      <td>...</td>\n",
       "      <td>...</td>\n",
       "      <td>...</td>\n",
       "      <td>...</td>\n",
       "      <td>...</td>\n",
       "      <td>...</td>\n",
       "      <td>...</td>\n",
       "      <td>...</td>\n",
       "      <td>...</td>\n",
       "      <td>...</td>\n",
       "    </tr>\n",
       "    <tr>\n",
       "      <th>270</th>\n",
       "      <td>JPMorgan_DeptStoresSpecialtySoftlinesUpdatingE...</td>\n",
       "      <td>543123</td>\n",
       "      <td>Grey, Aaron T</td>\n",
       "      <td>None</td>\n",
       "      <td>None</td>\n",
       "      <td>D:20180409060842+01'00'</td>\n",
       "      <td>None</td>\n",
       "      <td>None</td>\n",
       "      <td>19</td>\n",
       "      <td>1</td>\n",
       "    </tr>\n",
       "    <tr>\n",
       "      <th>271</th>\n",
       "      <td>JPMorgan_DisneyRaisingFQ2EstimatesonStrengthof...</td>\n",
       "      <td>425973</td>\n",
       "      <td>Julia Yue</td>\n",
       "      <td>None</td>\n",
       "      <td>None</td>\n",
       "      <td>D:20180410213916+01'00'</td>\n",
       "      <td>None</td>\n",
       "      <td>None</td>\n",
       "      <td>11</td>\n",
       "      <td>1</td>\n",
       "    </tr>\n",
       "    <tr>\n",
       "      <th>272</th>\n",
       "      <td>JPMorgan_DollarGeneralCorpBossRetailRound-UpKe...</td>\n",
       "      <td>393747</td>\n",
       "      <td>Grey, Aaron T</td>\n",
       "      <td>None</td>\n",
       "      <td>None</td>\n",
       "      <td>D:20180417073922+01'00'</td>\n",
       "      <td>None</td>\n",
       "      <td>None</td>\n",
       "      <td>9</td>\n",
       "      <td>1</td>\n",
       "    </tr>\n",
       "    <tr>\n",
       "      <th>273</th>\n",
       "      <td>JPMorgan_EdwardsLifesciencesTAVRSurveySuggests...</td>\n",
       "      <td>604111</td>\n",
       "      <td>Gong, Allen K</td>\n",
       "      <td>None</td>\n",
       "      <td>None</td>\n",
       "      <td>D:20180411010206+01'00'</td>\n",
       "      <td>None</td>\n",
       "      <td>None</td>\n",
       "      <td>20</td>\n",
       "      <td>1</td>\n",
       "    </tr>\n",
       "    <tr>\n",
       "      <th>274</th>\n",
       "      <td>JPMorgan_EEMITakeawaysfromModex_Apr_16,_2018</td>\n",
       "      <td>294425</td>\n",
       "      <td>Innamorato, Daniel J</td>\n",
       "      <td>None</td>\n",
       "      <td>None</td>\n",
       "      <td>D:20180416210019+01'00'</td>\n",
       "      <td>None</td>\n",
       "      <td>None</td>\n",
       "      <td>11</td>\n",
       "      <td>1</td>\n",
       "    </tr>\n",
       "    <tr>\n",
       "      <th>275</th>\n",
       "      <td>JPMorgan_EncanaCorporation1Q18PreviewModelUpda...</td>\n",
       "      <td>842151</td>\n",
       "      <td>JPM 1</td>\n",
       "      <td>None</td>\n",
       "      <td>None</td>\n",
       "      <td>D:20180417144820+01'00'</td>\n",
       "      <td>None</td>\n",
       "      <td>None</td>\n",
       "      <td>15</td>\n",
       "      <td>1</td>\n",
       "    </tr>\n",
       "    <tr>\n",
       "      <th>276</th>\n",
       "      <td>JPMorgan_Fastenal1QPreviewModelUpdate_Apr_09,_...</td>\n",
       "      <td>329503</td>\n",
       "      <td>Baumann, Patrick M</td>\n",
       "      <td>None</td>\n",
       "      <td>None</td>\n",
       "      <td>D:20180409145835+01'00'</td>\n",
       "      <td>None</td>\n",
       "      <td>None</td>\n",
       "      <td>8</td>\n",
       "      <td>1</td>\n",
       "    </tr>\n",
       "    <tr>\n",
       "      <th>277</th>\n",
       "      <td>JPMorgan_FirstRepublic1Q18WithIndustryLoanGrow...</td>\n",
       "      <td>377136</td>\n",
       "      <td>Ahuja, Rijul</td>\n",
       "      <td>None</td>\n",
       "      <td>None</td>\n",
       "      <td>D:20180415234740+01'00'</td>\n",
       "      <td>None</td>\n",
       "      <td>None</td>\n",
       "      <td>15</td>\n",
       "      <td>1</td>\n",
       "    </tr>\n",
       "    <tr>\n",
       "      <th>278</th>\n",
       "      <td>JPMorgan_FordMotorFordEuropeHQVisitTakeawaysIn...</td>\n",
       "      <td>499009</td>\n",
       "      <td>Rasania, Krishna X</td>\n",
       "      <td>None</td>\n",
       "      <td>None</td>\n",
       "      <td>D:20180416095129+01'00'</td>\n",
       "      <td>None</td>\n",
       "      <td>None</td>\n",
       "      <td>21</td>\n",
       "      <td>1</td>\n",
       "    </tr>\n",
       "    <tr>\n",
       "      <th>279</th>\n",
       "      <td>JPMorgan_FranklinResourcesMarkingModelforF2Q18...</td>\n",
       "      <td>292470</td>\n",
       "      <td>Cuddy, William V</td>\n",
       "      <td>None</td>\n",
       "      <td>None</td>\n",
       "      <td>D:20180417175359+01'00'</td>\n",
       "      <td>None</td>\n",
       "      <td>None</td>\n",
       "      <td>8</td>\n",
       "      <td>1</td>\n",
       "    </tr>\n",
       "    <tr>\n",
       "      <th>280</th>\n",
       "      <td>JPMorgan_GeneralDynamicsCorpMovingtoanUWRating...</td>\n",
       "      <td>347869</td>\n",
       "      <td>Rednor, Michael S</td>\n",
       "      <td>None</td>\n",
       "      <td>None</td>\n",
       "      <td>D:20180404173123+01'00'</td>\n",
       "      <td>None</td>\n",
       "      <td>None</td>\n",
       "      <td>9</td>\n",
       "      <td>1</td>\n",
       "    </tr>\n",
       "    <tr>\n",
       "      <th>281</th>\n",
       "      <td>JPMorgan_GeneralElectricCo(Re)-CastingFreshLig...</td>\n",
       "      <td>485196</td>\n",
       "      <td>Gupta, Rajat</td>\n",
       "      <td>None</td>\n",
       "      <td>None</td>\n",
       "      <td>D:20180416173945+01'00'</td>\n",
       "      <td>None</td>\n",
       "      <td>None</td>\n",
       "      <td>17</td>\n",
       "      <td>1</td>\n",
       "    </tr>\n",
       "    <tr>\n",
       "      <th>282</th>\n",
       "      <td>JPMorgan_GeneralElectricCo1Q18EarningsPreview_...</td>\n",
       "      <td>287395</td>\n",
       "      <td>Gupta, Rajat</td>\n",
       "      <td>None</td>\n",
       "      <td>None</td>\n",
       "      <td>D:20180419041243+01'00'</td>\n",
       "      <td>None</td>\n",
       "      <td>None</td>\n",
       "      <td>8</td>\n",
       "      <td>1</td>\n",
       "    </tr>\n",
       "    <tr>\n",
       "      <th>283</th>\n",
       "      <td>JPMorgan_GeneralElectricCoFeedbackfromOurPower...</td>\n",
       "      <td>326404</td>\n",
       "      <td>Gupta, Rajat</td>\n",
       "      <td>None</td>\n",
       "      <td>None</td>\n",
       "      <td>D:20180409064958+01'00'</td>\n",
       "      <td>None</td>\n",
       "      <td>None</td>\n",
       "      <td>9</td>\n",
       "      <td>1</td>\n",
       "    </tr>\n",
       "    <tr>\n",
       "      <th>284</th>\n",
       "      <td>JPMorgan_GeneralElectricCoNormalisaRelativeTer...</td>\n",
       "      <td>956708</td>\n",
       "      <td>Gupta, Rajat</td>\n",
       "      <td>None</td>\n",
       "      <td>None</td>\n",
       "      <td>D:20180406071615+01'00'</td>\n",
       "      <td>None</td>\n",
       "      <td>None</td>\n",
       "      <td>20</td>\n",
       "      <td>1</td>\n",
       "    </tr>\n",
       "    <tr>\n",
       "      <th>285</th>\n",
       "      <td>JPMorgan_GenuinePartsCompanyUSAutoAftermarketB...</td>\n",
       "      <td>559345</td>\n",
       "      <td>Sullivan, Jerry</td>\n",
       "      <td>None</td>\n",
       "      <td>None</td>\n",
       "      <td>D:20180420044214+01'00'</td>\n",
       "      <td>None</td>\n",
       "      <td>None</td>\n",
       "      <td>10</td>\n",
       "      <td>1</td>\n",
       "    </tr>\n",
       "    <tr>\n",
       "      <th>286</th>\n",
       "      <td>JPMorgan_GlobalInvestmentBanksReadacrossfromUS...</td>\n",
       "      <td>392051</td>\n",
       "      <td>Ranjan, Amit X</td>\n",
       "      <td>None</td>\n",
       "      <td>None</td>\n",
       "      <td>D:20180418233956+01'00'</td>\n",
       "      <td>None</td>\n",
       "      <td>None</td>\n",
       "      <td>15</td>\n",
       "      <td>1</td>\n",
       "    </tr>\n",
       "    <tr>\n",
       "      <th>287</th>\n",
       "      <td>JPMorgan_HealthcareTechnologyDistributionClini...</td>\n",
       "      <td>400180</td>\n",
       "      <td>Samuel, Anne E</td>\n",
       "      <td>None</td>\n",
       "      <td>None</td>\n",
       "      <td>D:20180416012116+01'00'</td>\n",
       "      <td>None</td>\n",
       "      <td>None</td>\n",
       "      <td>14</td>\n",
       "      <td>1</td>\n",
       "    </tr>\n",
       "    <tr>\n",
       "      <th>288</th>\n",
       "      <td>JPMorgan_HiltonWorldwideModelUpdateforRecentTr...</td>\n",
       "      <td>389964</td>\n",
       "      <td>Montour, Brandt A</td>\n",
       "      <td>None</td>\n",
       "      <td>None</td>\n",
       "      <td>D:20180416214350+01'00'</td>\n",
       "      <td>None</td>\n",
       "      <td>None</td>\n",
       "      <td>13</td>\n",
       "      <td>1</td>\n",
       "    </tr>\n",
       "    <tr>\n",
       "      <th>289</th>\n",
       "      <td>JPMorgan_Honeywell1QPreview_Apr_19,_2018</td>\n",
       "      <td>344615</td>\n",
       "      <td>Innamorato, Daniel J</td>\n",
       "      <td>None</td>\n",
       "      <td>None</td>\n",
       "      <td>D:20180419134907+01'00'</td>\n",
       "      <td>None</td>\n",
       "      <td>None</td>\n",
       "      <td>9</td>\n",
       "      <td>1</td>\n",
       "    </tr>\n",
       "    <tr>\n",
       "      <th>290</th>\n",
       "      <td>JPMorgan_HPIncASolidStarttoCalendarYear2018for...</td>\n",
       "      <td>464345</td>\n",
       "      <td>Coster, Paul</td>\n",
       "      <td>None</td>\n",
       "      <td>None</td>\n",
       "      <td>D:20180412020345+01'00'</td>\n",
       "      <td>None</td>\n",
       "      <td>None</td>\n",
       "      <td>9</td>\n",
       "      <td>1</td>\n",
       "    </tr>\n",
       "    <tr>\n",
       "      <th>291</th>\n",
       "      <td>JPMorgan_IBM1QRecap-ResultsMixedtoDownside,But...</td>\n",
       "      <td>416244</td>\n",
       "      <td>Gandhi, Pankti B</td>\n",
       "      <td>None</td>\n",
       "      <td>None</td>\n",
       "      <td>D:20180418113526+01'00'</td>\n",
       "      <td>None</td>\n",
       "      <td>None</td>\n",
       "      <td>17</td>\n",
       "      <td>1</td>\n",
       "    </tr>\n",
       "    <tr>\n",
       "      <th>292</th>\n",
       "      <td>JPMorgan_IncyteCorporationThoughtsonIDOECHO-30...</td>\n",
       "      <td>330137</td>\n",
       "      <td>Fu, Shawn</td>\n",
       "      <td>None</td>\n",
       "      <td>None</td>\n",
       "      <td>D:20180406145507+01'00'</td>\n",
       "      <td>None</td>\n",
       "      <td>None</td>\n",
       "      <td>8</td>\n",
       "      <td>1</td>\n",
       "    </tr>\n",
       "    <tr>\n",
       "      <th>293</th>\n",
       "      <td>JPMorgan_IntuitiveSurgical,Inc1Q18ReviewBigBea...</td>\n",
       "      <td>401354</td>\n",
       "      <td>Patrick Donnelly</td>\n",
       "      <td>None</td>\n",
       "      <td>None</td>\n",
       "      <td>D:20180418011502+01'00'</td>\n",
       "      <td>None</td>\n",
       "      <td>None</td>\n",
       "      <td>11</td>\n",
       "      <td>1</td>\n",
       "    </tr>\n",
       "    <tr>\n",
       "      <th>294</th>\n",
       "      <td>JPMorgan_InvescoLtdModelUpdate_Apr_17,_2018</td>\n",
       "      <td>293904</td>\n",
       "      <td>Cuddy, William V</td>\n",
       "      <td>None</td>\n",
       "      <td>None</td>\n",
       "      <td>D:20180417170843+01'00'</td>\n",
       "      <td>None</td>\n",
       "      <td>None</td>\n",
       "      <td>8</td>\n",
       "      <td>1</td>\n",
       "    </tr>\n",
       "    <tr>\n",
       "      <th>295</th>\n",
       "      <td>JPMorgan_JBHuntStrongResultsDespiteaToughInter...</td>\n",
       "      <td>361140</td>\n",
       "      <td>Parab, Sanket P</td>\n",
       "      <td>None</td>\n",
       "      <td>None</td>\n",
       "      <td>D:20180417035823+01'00'</td>\n",
       "      <td>None</td>\n",
       "      <td>None</td>\n",
       "      <td>9</td>\n",
       "      <td>1</td>\n",
       "    </tr>\n",
       "    <tr>\n",
       "      <th>296</th>\n",
       "      <td>JPMorgan_JMSmuckerCoCatchingSomeRaysAnalysisof...</td>\n",
       "      <td>331991</td>\n",
       "      <td>Ken Goldman</td>\n",
       "      <td>None</td>\n",
       "      <td>None</td>\n",
       "      <td>D:20180405072649+01'00'</td>\n",
       "      <td>None</td>\n",
       "      <td>None</td>\n",
       "      <td>12</td>\n",
       "      <td>1</td>\n",
       "    </tr>\n",
       "    <tr>\n",
       "      <th>297</th>\n",
       "      <td>JPMorgan_KeyCorp1Q18WithCILoanGrowthSurging,Co...</td>\n",
       "      <td>381684</td>\n",
       "      <td>Ahuja, Rijul</td>\n",
       "      <td>None</td>\n",
       "      <td>None</td>\n",
       "      <td>D:20180420100652+01'00'</td>\n",
       "      <td>None</td>\n",
       "      <td>None</td>\n",
       "      <td>14</td>\n",
       "      <td>1</td>\n",
       "    </tr>\n",
       "    <tr>\n",
       "      <th>298</th>\n",
       "      <td>JPMorgan_LamResearchStrongResultsGuideWFEFunda...</td>\n",
       "      <td>439014</td>\n",
       "      <td>Peterson, Bill</td>\n",
       "      <td>None</td>\n",
       "      <td>None</td>\n",
       "      <td>D:20180418063456+01'00'</td>\n",
       "      <td>None</td>\n",
       "      <td>None</td>\n",
       "      <td>12</td>\n",
       "      <td>1</td>\n",
       "    </tr>\n",
       "    <tr>\n",
       "      <th>299</th>\n",
       "      <td>JPMorgan_LennarPost-CallNotesSolid1QCAAIntegra...</td>\n",
       "      <td>336019</td>\n",
       "      <td>Hillman, Elad</td>\n",
       "      <td>None</td>\n",
       "      <td>None</td>\n",
       "      <td>D:20180405055042+01'00'</td>\n",
       "      <td>None</td>\n",
       "      <td>None</td>\n",
       "      <td>10</td>\n",
       "      <td>1</td>\n",
       "    </tr>\n",
       "  </tbody>\n",
       "</table>\n",
       "<p>578 rows × 10 columns</p>\n",
       "</div>"
      ],
      "text/plain": [
       "                                             name_file size_file  \\\n",
       "0    MorganStanley_VideoThailandSpectrumAuction2018...    253222   \n",
       "1    MorganStanley_WeekAheadinLatinAmericaMexicoCha...    578769   \n",
       "2    SanfordCBernsteinCo,LLC_BTWAsiaTheHighTeakRevo...    815342   \n",
       "3    SanfordCBernsteinCo,LLC_USPortfolioStrategyApr...    413472   \n",
       "4    MorganStanley_MajorPharmaceuticalsBariFDApanel...    270499   \n",
       "5    MorganStanley_MarineTransportationLookforNear-...   1270482   \n",
       "6    MorganStanley_MaterialsSectorStrategyVol59Watc...   1522851   \n",
       "7    MorganStanley_MediaCableSatelliteSelectedTradi...   3646098   \n",
       "8    MorganStanley_MedTechServicesGlobalMedTechWeek...   6829591   \n",
       "9    MorganStanley_Mid-CapExplorationProductionRoom...   3477383   \n",
       "10   MorganStanley_MidcapBanksASB1Q18EarningsTakeaw...    943620   \n",
       "11   MorganStanley_MidcapBanksCFG1Q18EarningsTakeaw...    992934   \n",
       "12   MorganStanley_MidcapBanksCMA1Q18EarningsTakeaw...    653120   \n",
       "13   MorganStanley_MidcapBanksKEY,SBNY,EWBC,WBS,and...    917220   \n",
       "14   MorganStanley_MidcapBanksMTB1Q18EarningsTakeaw...    617578   \n",
       "15   MorganStanley_MidstreamWeeklyKinderMoreGain_Ap...   1423567   \n",
       "16   MorganStanley_MorganStanleyFXPositioningTracke...    423857   \n",
       "17   MorganStanley_NordicBanks1Q18-Whattowatchfor_A...    780343   \n",
       "18   MorganStanley_NorthAmericaEnergyWillInvestorsR...   3063495   \n",
       "19   MorganStanley_OilDataDigestWeeklyOilStockSumma...    402056   \n",
       "20   MorganStanley_OilServicesStockPositioningfor1Q...    529332   \n",
       "21   MorganStanley_PharmaceuticalsImplicationsofJNJ...    238761   \n",
       "22   MorganStanley_PodcastEuropeanMetalsMiningTrack...    302956   \n",
       "23   MorganStanley_PodcastSustainabilityOilGasFutur...    256736   \n",
       "24   MorganStanley_PositionsandFlowsReport_Apr_17,_...   1112255   \n",
       "25   MorganStanley_ProteinWeeklyCommodityReportPork...   2143073   \n",
       "26   MorganStanley_RealEstateStockSelectionforMajor...    281713   \n",
       "27   MorganStanley_REITsRetailREITs1Q18EarningsPrev...    879060   \n",
       "28   MorganStanley_ResiCreditRiskTransferTracker-Ap...    777116   \n",
       "29   MorganStanley_SABanksBalanceSheetPulseFebruary...   2964640   \n",
       "..                                                 ...       ...   \n",
       "270  JPMorgan_DeptStoresSpecialtySoftlinesUpdatingE...    543123   \n",
       "271  JPMorgan_DisneyRaisingFQ2EstimatesonStrengthof...    425973   \n",
       "272  JPMorgan_DollarGeneralCorpBossRetailRound-UpKe...    393747   \n",
       "273  JPMorgan_EdwardsLifesciencesTAVRSurveySuggests...    604111   \n",
       "274       JPMorgan_EEMITakeawaysfromModex_Apr_16,_2018    294425   \n",
       "275  JPMorgan_EncanaCorporation1Q18PreviewModelUpda...    842151   \n",
       "276  JPMorgan_Fastenal1QPreviewModelUpdate_Apr_09,_...    329503   \n",
       "277  JPMorgan_FirstRepublic1Q18WithIndustryLoanGrow...    377136   \n",
       "278  JPMorgan_FordMotorFordEuropeHQVisitTakeawaysIn...    499009   \n",
       "279  JPMorgan_FranklinResourcesMarkingModelforF2Q18...    292470   \n",
       "280  JPMorgan_GeneralDynamicsCorpMovingtoanUWRating...    347869   \n",
       "281  JPMorgan_GeneralElectricCo(Re)-CastingFreshLig...    485196   \n",
       "282  JPMorgan_GeneralElectricCo1Q18EarningsPreview_...    287395   \n",
       "283  JPMorgan_GeneralElectricCoFeedbackfromOurPower...    326404   \n",
       "284  JPMorgan_GeneralElectricCoNormalisaRelativeTer...    956708   \n",
       "285  JPMorgan_GenuinePartsCompanyUSAutoAftermarketB...    559345   \n",
       "286  JPMorgan_GlobalInvestmentBanksReadacrossfromUS...    392051   \n",
       "287  JPMorgan_HealthcareTechnologyDistributionClini...    400180   \n",
       "288  JPMorgan_HiltonWorldwideModelUpdateforRecentTr...    389964   \n",
       "289           JPMorgan_Honeywell1QPreview_Apr_19,_2018    344615   \n",
       "290  JPMorgan_HPIncASolidStarttoCalendarYear2018for...    464345   \n",
       "291  JPMorgan_IBM1QRecap-ResultsMixedtoDownside,But...    416244   \n",
       "292  JPMorgan_IncyteCorporationThoughtsonIDOECHO-30...    330137   \n",
       "293  JPMorgan_IntuitiveSurgical,Inc1Q18ReviewBigBea...    401354   \n",
       "294        JPMorgan_InvescoLtdModelUpdate_Apr_17,_2018    293904   \n",
       "295  JPMorgan_JBHuntStrongResultsDespiteaToughInter...    361140   \n",
       "296  JPMorgan_JMSmuckerCoCatchingSomeRaysAnalysisof...    331991   \n",
       "297  JPMorgan_KeyCorp1Q18WithCILoanGrowthSurging,Co...    381684   \n",
       "298  JPMorgan_LamResearchStrongResultsGuideWFEFunda...    439014   \n",
       "299  JPMorgan_LennarPost-CallNotesSolid1QCAAIntegra...    336019   \n",
       "\n",
       "              name_author name_category name_company            date_creation  \\\n",
       "0                    None          None         None  D:20180419022651-04'00'   \n",
       "1                    None          None         None  D:20180419205608-04'00'   \n",
       "2       Michael W. Parker          None         None         D:20180420071745   \n",
       "3         Noah Weisberger          None         None         D:20180418215455   \n",
       "4                    None          None         None  D:20180419093159-04'00'   \n",
       "5                    None          None         None  D:20180420030327-04'00'   \n",
       "6                    None          None         None  D:20180420071737-04'00'   \n",
       "7                    None          None         None  D:20180418070302-04'00'   \n",
       "8                    None          None         None  D:20180416104045-04'00'   \n",
       "9                    None          None         None  D:20180420014552-04'00'   \n",
       "10                   None          None         None  D:20180419191952-04'00'   \n",
       "11                   None          None         None  D:20180420082538-04'00'   \n",
       "12                   None          None         None  D:20180417101130-04'00'   \n",
       "13                   None          None         None  D:20180419121143-04'00'   \n",
       "14                   None          None         None  D:20180416095511-04'00'   \n",
       "15                   None          None         None  D:20180419233307-04'00'   \n",
       "16                   None          None         None  D:20180416133809-04'00'   \n",
       "17                   None          None         None  D:20180418183442-04'00'   \n",
       "18                   makf          None         None        D:20180418021158Z   \n",
       "19                   None          None         None  D:20180419072049-04'00'   \n",
       "20                   None          None         None  D:20180417053809-04'00'   \n",
       "21                   None          None         None  D:20180417083118-04'00'   \n",
       "22                   None          None         None  D:20180420054736-04'00'   \n",
       "23                   None          None         None  D:20180416071522-04'00'   \n",
       "24               saxenbha          None         None  D:20161227211808+05'30'   \n",
       "25                   None          None         None  D:20180416101619-04'00'   \n",
       "26                   None          None         None  D:20180419230029-04'00'   \n",
       "27                   None          None         None  D:20180418214446-04'00'   \n",
       "28    Ng, Jeen (Research)          None         None  D:20180419143211-04'00'   \n",
       "29                   None          None         None  D:20180417121943-04'00'   \n",
       "..                    ...           ...          ...                      ...   \n",
       "270         Grey, Aaron T          None         None  D:20180409060842+01'00'   \n",
       "271             Julia Yue          None         None  D:20180410213916+01'00'   \n",
       "272         Grey, Aaron T          None         None  D:20180417073922+01'00'   \n",
       "273         Gong, Allen K          None         None  D:20180411010206+01'00'   \n",
       "274  Innamorato, Daniel J          None         None  D:20180416210019+01'00'   \n",
       "275                 JPM 1          None         None  D:20180417144820+01'00'   \n",
       "276    Baumann, Patrick M          None         None  D:20180409145835+01'00'   \n",
       "277          Ahuja, Rijul          None         None  D:20180415234740+01'00'   \n",
       "278    Rasania, Krishna X          None         None  D:20180416095129+01'00'   \n",
       "279      Cuddy, William V          None         None  D:20180417175359+01'00'   \n",
       "280     Rednor, Michael S          None         None  D:20180404173123+01'00'   \n",
       "281          Gupta, Rajat          None         None  D:20180416173945+01'00'   \n",
       "282          Gupta, Rajat          None         None  D:20180419041243+01'00'   \n",
       "283          Gupta, Rajat          None         None  D:20180409064958+01'00'   \n",
       "284          Gupta, Rajat          None         None  D:20180406071615+01'00'   \n",
       "285       Sullivan, Jerry          None         None  D:20180420044214+01'00'   \n",
       "286        Ranjan, Amit X          None         None  D:20180418233956+01'00'   \n",
       "287        Samuel, Anne E          None         None  D:20180416012116+01'00'   \n",
       "288     Montour, Brandt A          None         None  D:20180416214350+01'00'   \n",
       "289  Innamorato, Daniel J          None         None  D:20180419134907+01'00'   \n",
       "290          Coster, Paul          None         None  D:20180412020345+01'00'   \n",
       "291      Gandhi, Pankti B          None         None  D:20180418113526+01'00'   \n",
       "292             Fu, Shawn          None         None  D:20180406145507+01'00'   \n",
       "293      Patrick Donnelly          None         None  D:20180418011502+01'00'   \n",
       "294      Cuddy, William V          None         None  D:20180417170843+01'00'   \n",
       "295       Parab, Sanket P          None         None  D:20180417035823+01'00'   \n",
       "296           Ken Goldman          None         None  D:20180405072649+01'00'   \n",
       "297          Ahuja, Rijul          None         None  D:20180420100652+01'00'   \n",
       "298        Peterson, Bill          None         None  D:20180418063456+01'00'   \n",
       "299         Hillman, Elad          None         None  D:20180405055042+01'00'   \n",
       "\n",
       "    name_topic                                     title_document count_pages  \\\n",
       "0         None                                               None           8   \n",
       "1         None  Week Ahead in Latin America: Mexico: Challengi...          22   \n",
       "2               BTW Asia: The High Teak Revolution... India's ...          29   \n",
       "3               US Portfolio Strategy: April Market Essentials...          11   \n",
       "4         None  Major Pharmaceuticals: Bari FDA panel doc rais...          11   \n",
       "5         None  Marine Transportation: Look for Near-term Rebo...          26   \n",
       "6         None  Materials Sector Strategy Vol. 59: Watching fo...          23   \n",
       "7         None  Media & Cable/Satellite: Selected Trading Mult...          16   \n",
       "8         None          MedTech & Services: Global MedTech Weekly          45   \n",
       "9         None  Mid-Cap Exploration & Production: Room to Run:...          27   \n",
       "10        None                                               None          27   \n",
       "11        None                                               None          28   \n",
       "12        None                                               None          17   \n",
       "13        None                                               None          27   \n",
       "14        None                                               None          20   \n",
       "15        None                 Midstream Weekly: Kinder More Gain          19   \n",
       "16        None            : Morgan Stanley FX Positioning Tracker           8   \n",
       "17        None            Nordic Banks: 1Q18 - What to watch for?          17   \n",
       "18        None      MS_Print Design_North America Insight English          40   \n",
       "19        None          Oil Data Digest: Weekly Oil Stock Summary           8   \n",
       "20        None   Oil Services: Stock Positioning for 1Q18 Results          20   \n",
       "21        None  Pharmaceuticals: Implications of JNJ's 2018-1Q...           9   \n",
       "22        None  Podcast | European Metals & Mining Tracker: Fluid          10   \n",
       "23        None  Podcast | Sustainability & Oil & Gas: #Future ...           8   \n",
       "24        None                                      PFR Front.xls          26   \n",
       "25        None  Protein: Weekly Commodity Report: Pork Packer ...          16   \n",
       "26        None  Real Estate: Stock Selection for Major Develop...          10   \n",
       "27        None  REITs: Retail REITs 1Q18 Earnings Preview - Wi...          21   \n",
       "28        None                            PowerPoint Presentation          39   \n",
       "29        None                                               None          31   \n",
       "..         ...                                                ...         ...   \n",
       "270       None                                               None          19   \n",
       "271       None                                               None          11   \n",
       "272       None                                               None           9   \n",
       "273       None                                               None          20   \n",
       "274       None                                               None          11   \n",
       "275       None                                               None          15   \n",
       "276       None                                               None           8   \n",
       "277       None                                               None          15   \n",
       "278       None                                               None          21   \n",
       "279       None                                               None           8   \n",
       "280       None                                               None           9   \n",
       "281       None                                               None          17   \n",
       "282       None                                               None           8   \n",
       "283       None                                               None           9   \n",
       "284       None                                               None          20   \n",
       "285       None                                               None          10   \n",
       "286       None                                               None          15   \n",
       "287       None                                               None          14   \n",
       "288       None                                               None          13   \n",
       "289       None                                               None           9   \n",
       "290       None                                               None           9   \n",
       "291       None                                               None          17   \n",
       "292       None                                               None           8   \n",
       "293       None                                               None          11   \n",
       "294       None                                               None           8   \n",
       "295       None                                               None           9   \n",
       "296       None                                               None          12   \n",
       "297       None                                               None          14   \n",
       "298       None                                               None          12   \n",
       "299       None                                               None          10   \n",
       "\n",
       "    type_isSingleStock  \n",
       "0                    0  \n",
       "1                    0  \n",
       "2                    0  \n",
       "3                    0  \n",
       "4                    0  \n",
       "5                    0  \n",
       "6                    0  \n",
       "7                    0  \n",
       "8                    0  \n",
       "9                    0  \n",
       "10                   0  \n",
       "11                   0  \n",
       "12                   0  \n",
       "13                   0  \n",
       "14                   0  \n",
       "15                   0  \n",
       "16                   0  \n",
       "17                   0  \n",
       "18                   0  \n",
       "19                   0  \n",
       "20                   0  \n",
       "21                   0  \n",
       "22                   0  \n",
       "23                   0  \n",
       "24                   0  \n",
       "25                   0  \n",
       "26                   0  \n",
       "27                   0  \n",
       "28                   0  \n",
       "29                   0  \n",
       "..                 ...  \n",
       "270                  1  \n",
       "271                  1  \n",
       "272                  1  \n",
       "273                  1  \n",
       "274                  1  \n",
       "275                  1  \n",
       "276                  1  \n",
       "277                  1  \n",
       "278                  1  \n",
       "279                  1  \n",
       "280                  1  \n",
       "281                  1  \n",
       "282                  1  \n",
       "283                  1  \n",
       "284                  1  \n",
       "285                  1  \n",
       "286                  1  \n",
       "287                  1  \n",
       "288                  1  \n",
       "289                  1  \n",
       "290                  1  \n",
       "291                  1  \n",
       "292                  1  \n",
       "293                  1  \n",
       "294                  1  \n",
       "295                  1  \n",
       "296                  1  \n",
       "297                  1  \n",
       "298                  1  \n",
       "299                  1  \n",
       "\n",
       "[578 rows x 10 columns]"
      ]
     },
     "execution_count": 32,
     "metadata": {},
     "output_type": "execute_result"
    }
   ],
   "source": [
    "myDataFrame=pd.concat([myDataFrame_False,myDataFrame_True])\n",
    "myDataFrame"
   ]
  },
  {
   "cell_type": "markdown",
   "metadata": {},
   "source": [
    "What categories are we trying to cluster our files into?"
   ]
  },
  {
   "cell_type": "code",
   "execution_count": 8,
   "metadata": {},
   "outputs": [],
   "source": [
    "myCategories=[\"Single Stock\",\"Strategic sector analysis\",\"Macro analysis\"]\n",
    "mySubCategories=[\"Capital Changes (SEO, capital reduction etc.)\",\"Externalities\",\"M&A\",\"Management Changes\",\"Partnership\",\"Results\",\"Solvency\",\"Strategic Changes\"]"
   ]
  },
  {
   "cell_type": "markdown",
   "metadata": {},
   "source": [
    "Parse file titles and first NLP analysis"
   ]
  },
  {
   "cell_type": "code",
   "execution_count": 9,
   "metadata": {},
   "outputs": [],
   "source": [
    "myDataFrame[\"tokenized_name_file\"]=myDataFrame[\"name_file\"]\n",
    "myNames=myDataFrame[\"tokenized_name_file\"].as_matrix()"
   ]
  },
  {
   "cell_type": "code",
   "execution_count": 10,
   "metadata": {},
   "outputs": [],
   "source": [
    "#This function takes an array as an argument and returns it with standardized strings\n",
    "def myNamesStandardizer(myArray):\n",
    "    i=0;\n",
    "    for name in myArray:\n",
    "        name=re.sub(r\"(\\w)([A-Z])\",r\"\\1 \\2\", name[:-13])\n",
    "        name=re.sub(r\"[_,()]\",\" \",name)\n",
    "        name=name.lower()\n",
    "        myArray[i]=name\n",
    "        i+=1\n",
    "    return myArray"
   ]
  },
  {
   "cell_type": "code",
   "execution_count": 11,
   "metadata": {},
   "outputs": [],
   "source": [
    "myNames=myNamesStandardizer(myNames)"
   ]
  },
  {
   "cell_type": "code",
   "execution_count": null,
   "metadata": {},
   "outputs": [],
   "source": []
  },
  {
   "cell_type": "code",
   "execution_count": 13,
   "metadata": {},
   "outputs": [
    {
     "name": "stdout",
     "output_type": "stream",
     "text": [
      "53042\n",
      "43\n"
     ]
    }
   ],
   "source": [
    "#myNames=myNamesTokenizer(myNames)\n",
    "#total count of words\n",
    "allWords=[word for name in myDataFrame['tokenized_name_file'] for word in name]\n",
    "print(len(allWords))\n",
    "myVocabulary=sorted(list(set(allWords)))\n",
    "print(len(myVocabulary))"
   ]
  },
  {
   "cell_type": "code",
   "execution_count": 14,
   "metadata": {},
   "outputs": [
    {
     "data": {
      "text/html": [
       "<div>\n",
       "<style scoped>\n",
       "    .dataframe tbody tr th:only-of-type {\n",
       "        vertical-align: middle;\n",
       "    }\n",
       "\n",
       "    .dataframe tbody tr th {\n",
       "        vertical-align: top;\n",
       "    }\n",
       "\n",
       "    .dataframe thead th {\n",
       "        text-align: right;\n",
       "    }\n",
       "</style>\n",
       "<table border=\"1\" class=\"dataframe\">\n",
       "  <thead>\n",
       "    <tr style=\"text-align: right;\">\n",
       "      <th></th>\n",
       "      <th>name_file</th>\n",
       "      <th>size_file</th>\n",
       "      <th>name_author</th>\n",
       "      <th>name_category</th>\n",
       "      <th>name_company</th>\n",
       "      <th>date_creation</th>\n",
       "      <th>name_topic</th>\n",
       "      <th>title_document</th>\n",
       "      <th>count_pages</th>\n",
       "      <th>type_isSingleStock</th>\n",
       "      <th>tokenized_name_file</th>\n",
       "    </tr>\n",
       "  </thead>\n",
       "  <tbody>\n",
       "    <tr>\n",
       "      <th>0</th>\n",
       "      <td>MorganStanley_VideoMachineryandCapitalGoodsOnt...</td>\n",
       "      <td>392106</td>\n",
       "      <td>None</td>\n",
       "      <td>None</td>\n",
       "      <td>None</td>\n",
       "      <td>D:20180420035703-04'00'</td>\n",
       "      <td>None</td>\n",
       "      <td>Video | Machinery and Capital Goods: On the Ro...</td>\n",
       "      <td>8</td>\n",
       "      <td>0</td>\n",
       "      <td>morgan stanley  video machineryand capital goo...</td>\n",
       "    </tr>\n",
       "    <tr>\n",
       "      <th>1</th>\n",
       "      <td>MorganStanley_VideoOilGasHowDigitalisationMayD...</td>\n",
       "      <td>266524</td>\n",
       "      <td>None</td>\n",
       "      <td>None</td>\n",
       "      <td>None</td>\n",
       "      <td>D:20180417125245-04'00'</td>\n",
       "      <td>None</td>\n",
       "      <td>Video | Oil &amp; Gas: How Digitalisation May Driv...</td>\n",
       "      <td>9</td>\n",
       "      <td>0</td>\n",
       "      <td>morgan stanley  video oil gas how digitalisati...</td>\n",
       "    </tr>\n",
       "    <tr>\n",
       "      <th>2</th>\n",
       "      <td>MorganStanley_VideoThailandSpectrumAuction2018...</td>\n",
       "      <td>253222</td>\n",
       "      <td>None</td>\n",
       "      <td>None</td>\n",
       "      <td>None</td>\n",
       "      <td>D:20180419022651-04'00'</td>\n",
       "      <td>None</td>\n",
       "      <td>None</td>\n",
       "      <td>8</td>\n",
       "      <td>0</td>\n",
       "      <td>morgan stanley  video thailand spectrum auctio...</td>\n",
       "    </tr>\n",
       "    <tr>\n",
       "      <th>3</th>\n",
       "      <td>MorganStanley_WeekAheadinLatinAmericaMexicoCha...</td>\n",
       "      <td>578769</td>\n",
       "      <td>None</td>\n",
       "      <td>None</td>\n",
       "      <td>None</td>\n",
       "      <td>D:20180419205608-04'00'</td>\n",
       "      <td>None</td>\n",
       "      <td>Week Ahead in Latin America: Mexico: Challengi...</td>\n",
       "      <td>22</td>\n",
       "      <td>0</td>\n",
       "      <td>morgan stanley  week aheadin latin america mex...</td>\n",
       "    </tr>\n",
       "    <tr>\n",
       "      <th>4</th>\n",
       "      <td>SanfordCBernsteinCo,LLC_BTWAsiaTheHighTeakRevo...</td>\n",
       "      <td>815342</td>\n",
       "      <td>Michael W. Parker</td>\n",
       "      <td>None</td>\n",
       "      <td>None</td>\n",
       "      <td>D:20180420071745</td>\n",
       "      <td></td>\n",
       "      <td>BTW Asia: The High Teak Revolution... India's ...</td>\n",
       "      <td>29</td>\n",
       "      <td>0</td>\n",
       "      <td>sanford cbernstein co l lc  bt wasia the high ...</td>\n",
       "    </tr>\n",
       "  </tbody>\n",
       "</table>\n",
       "</div>"
      ],
      "text/plain": [
       "                                           name_file size_file  \\\n",
       "0  MorganStanley_VideoMachineryandCapitalGoodsOnt...    392106   \n",
       "1  MorganStanley_VideoOilGasHowDigitalisationMayD...    266524   \n",
       "2  MorganStanley_VideoThailandSpectrumAuction2018...    253222   \n",
       "3  MorganStanley_WeekAheadinLatinAmericaMexicoCha...    578769   \n",
       "4  SanfordCBernsteinCo,LLC_BTWAsiaTheHighTeakRevo...    815342   \n",
       "\n",
       "         name_author name_category name_company            date_creation  \\\n",
       "0               None          None         None  D:20180420035703-04'00'   \n",
       "1               None          None         None  D:20180417125245-04'00'   \n",
       "2               None          None         None  D:20180419022651-04'00'   \n",
       "3               None          None         None  D:20180419205608-04'00'   \n",
       "4  Michael W. Parker          None         None         D:20180420071745   \n",
       "\n",
       "  name_topic                                     title_document count_pages  \\\n",
       "0       None  Video | Machinery and Capital Goods: On the Ro...           8   \n",
       "1       None  Video | Oil & Gas: How Digitalisation May Driv...           9   \n",
       "2       None                                               None           8   \n",
       "3       None  Week Ahead in Latin America: Mexico: Challengi...          22   \n",
       "4             BTW Asia: The High Teak Revolution... India's ...          29   \n",
       "\n",
       "  type_isSingleStock                                tokenized_name_file  \n",
       "0                  0  morgan stanley  video machineryand capital goo...  \n",
       "1                  0  morgan stanley  video oil gas how digitalisati...  \n",
       "2                  0  morgan stanley  video thailand spectrum auctio...  \n",
       "3                  0  morgan stanley  week aheadin latin america mex...  \n",
       "4                  0  sanford cbernstein co l lc  bt wasia the high ...  "
      ]
     },
     "execution_count": 14,
     "metadata": {},
     "output_type": "execute_result"
    }
   ],
   "source": [
    "myDataFrame.head()"
   ]
  },
  {
   "cell_type": "markdown",
   "metadata": {},
   "source": [
    "##  First strategy: raw Bag of Words and PCA"
   ]
  },
  {
   "cell_type": "code",
   "execution_count": 15,
   "metadata": {},
   "outputs": [],
   "source": [
    "def myCount(data):\n",
    "    myCountVectorizer=sklearn.feature_extraction.text.CountVectorizer()\n",
    "    countedData=myCountVectorizer.fit_transform(data)\n",
    "    return countedData,myCountVectorizer"
   ]
  },
  {
   "cell_type": "code",
   "execution_count": null,
   "metadata": {},
   "outputs": [],
   "source": [
    "#Run this for title only analysis\n",
    "myListofNames=myDataFrame['tokenized_name_file'].tolist()\n",
    "myListofLabels=myDataFrame['type_isSingleStock'].tolist()"
   ]
  },
  {
   "cell_type": "code",
   "execution_count": null,
   "metadata": {},
   "outputs": [],
   "source": [
    "#Run this for first page analysis\n",
    "myListofNames=myTextDF['firstpagetext'].tolist()\n",
    "myListofLabels=myTextDF['category'].tolist()"
   ]
  },
  {
   "cell_type": "code",
   "execution_count": 50,
   "metadata": {},
   "outputs": [],
   "source": [
    "X_train,X_test,Y_train,Y_test=sklearn.model_selection.train_test_split(myListofNames,myListofLabels, test_size=0.2,random_state=40)\n",
    "X_train_counts, count_vectorizer=myCount(X_train)\n",
    "X_test_counts=count_vectorizer.transform(X_test)"
   ]
  },
  {
   "cell_type": "code",
   "execution_count": 51,
   "metadata": {},
   "outputs": [
    {
     "data": {
      "text/plain": [
       "array([[ 3,  0,  0, ...,  0,  0,  0],\n",
       "       [10,  0,  0, ...,  0,  0,  0],\n",
       "       [ 0,  0,  0, ...,  0,  0,  0],\n",
       "       ...,\n",
       "       [ 0,  0,  0, ...,  0,  0,  0],\n",
       "       [ 0,  0,  0, ...,  0,  0,  0],\n",
       "       [ 4,  0,  0, ...,  0,  0,  0]], dtype=int64)"
      ]
     },
     "execution_count": 51,
     "metadata": {},
     "output_type": "execute_result"
    }
   ],
   "source": [
    "X_train_counts.toarray()"
   ]
  },
  {
   "cell_type": "code",
   "execution_count": 84,
   "metadata": {},
   "outputs": [
    {
     "name": "stdout",
     "output_type": "stream",
     "text": [
      "8093\n"
     ]
    }
   ],
   "source": [
    "print(count_vectorizer.vocabulary_.get('increasing'))"
   ]
  },
  {
   "cell_type": "code",
   "execution_count": 56,
   "metadata": {},
   "outputs": [
    {
     "data": {
      "text/plain": [
       "{'IsNot_SingleStock', 'Is_SingleStock'}"
      ]
     },
     "execution_count": 56,
     "metadata": {},
     "output_type": "execute_result"
    }
   ],
   "source": [
    "set(myListofLabels)"
   ]
  },
  {
   "cell_type": "code",
   "execution_count": 59,
   "metadata": {},
   "outputs": [],
   "source": [
    "def plot_LSA(test_data, test_labels, plot=True,n_components=2):\n",
    "        lsa = TruncatedSVD(n_components=n_components)\n",
    "        lsa.fit(test_data)\n",
    "        lsa_scores = lsa.transform(test_data)\n",
    "        colors = {'IsNot_SingleStock':'red', 'Is_SingleStock':'green'}\n",
    "        color_column=[]\n",
    "        for category in test_labels:\n",
    "            color_column.append(colors[category])\n",
    "        if plot:\n",
    "            plt.scatter(lsa_scores[:,0], lsa_scores[:,1], s=8, alpha=.8, c=color_column)\n",
    "            SingleStock_patch = mpatches.Patch(color='green', label='Single Stock')\n",
    "            NotSingleStock_patch = mpatches.Patch(color='red', label='Not Single Stock')\n",
    "            plt.legend(handles=[SingleStock_patch,NotSingleStock_patch])"
   ]
  },
  {
   "cell_type": "code",
   "execution_count": 60,
   "metadata": {},
   "outputs": [
    {
     "data": {
      "image/png": "[encoded data removed]",
      "text/plain": [
       "<Figure size 432x288 with 1 Axes>"
      ]
     },
     "metadata": {},
     "output_type": "display_data"
    }
   ],
   "source": [
    "plot_LSA(X_train_counts, Y_train)\n",
    "plt.show()"
   ]
  },
  {
   "cell_type": "markdown",
   "metadata": {},
   "source": [
    "Clustering opportunities are poor: need for a broader DB w/ better preprocessing (TF IDF and Word2Vec)"
   ]
  },
  {
   "cell_type": "markdown",
   "metadata": {},
   "source": [
    "## Second strategy: TF IDF and Word2Vec"
   ]
  },
  {
   "cell_type": "code",
   "execution_count": 89,
   "metadata": {},
   "outputs": [],
   "source": [
    "#This function takes as argument the test and prediucted output to measure performance\n",
    "def get_metrics(y_test,y_predicted):\n",
    "    precision=sklearn.metrics.precision_score(y_test,y_predicted,pos_label=None,average='weighted')\n",
    "    recall=sklearn.metrics.recall_score(y_test,y_predicted,pos_label=None,average='weighted')\n",
    "    f1=sklearn.metrics.f1_score(y_test,y_predicted,pos_label=None,average='weighted')\n",
    "    accuracy=sklearn.metrics.accuracy_score(y_test,y_predicted)\n",
    "    return pd.DataFrame({'Accuracy': [accuracy], 'Precision': [precision], 'Recall': [recall], 'F1': [f1]})"
   ]
  },
  {
   "cell_type": "code",
   "execution_count": 62,
   "metadata": {},
   "outputs": [],
   "source": [
    "def tfidf(data):\n",
    "    tfidf_vectorizer=sklearn.feature_extraction.text.TfidfVectorizer()\n",
    "    train=tfidf_vectorizer.fit_transform(data)\n",
    "    return train, tfidf_vectorizer"
   ]
  },
  {
   "cell_type": "code",
   "execution_count": 63,
   "metadata": {},
   "outputs": [
    {
     "data": {
      "image/png": "[encoded data removed]",
      "text/plain": [
       "<Figure size 432x288 with 1 Axes>"
      ]
     },
     "metadata": {},
     "output_type": "display_data"
    }
   ],
   "source": [
    "X_train_tfidf, tfidf_vectorizer=tfidf(X_train)\n",
    "X_test_tfidf=tfidf_vectorizer.transform(X_test)\n",
    "fig=plt.figure()\n",
    "plot_LSA(X_train_tfidf,Y_train)\n",
    "plt.show()"
   ]
  },
  {
   "cell_type": "markdown",
   "metadata": {},
   "source": [
    "The results are much better, we can try to fit a model overe the data"
   ]
  },
  {
   "cell_type": "markdown",
   "metadata": {},
   "source": [
    "Let's first try to fit a simple logistic regression model."
   ]
  },
  {
   "cell_type": "code",
   "execution_count": 90,
   "metadata": {},
   "outputs": [
    {
     "data": {
      "text/html": [
       "<div>\n",
       "<style scoped>\n",
       "    .dataframe tbody tr th:only-of-type {\n",
       "        vertical-align: middle;\n",
       "    }\n",
       "\n",
       "    .dataframe tbody tr th {\n",
       "        vertical-align: top;\n",
       "    }\n",
       "\n",
       "    .dataframe thead th {\n",
       "        text-align: right;\n",
       "    }\n",
       "</style>\n",
       "<table border=\"1\" class=\"dataframe\">\n",
       "  <thead>\n",
       "    <tr style=\"text-align: right;\">\n",
       "      <th></th>\n",
       "      <th>Accuracy</th>\n",
       "      <th>F1</th>\n",
       "      <th>Precision</th>\n",
       "      <th>Recall</th>\n",
       "    </tr>\n",
       "  </thead>\n",
       "  <tbody>\n",
       "    <tr>\n",
       "      <th>0</th>\n",
       "      <td>0.941667</td>\n",
       "      <td>0.941655</td>\n",
       "      <td>0.941773</td>\n",
       "      <td>0.941667</td>\n",
       "    </tr>\n",
       "  </tbody>\n",
       "</table>\n",
       "</div>"
      ],
      "text/plain": [
       "   Accuracy        F1  Precision    Recall\n",
       "0  0.941667  0.941655   0.941773  0.941667"
      ]
     },
     "execution_count": 90,
     "metadata": {},
     "output_type": "execute_result"
    }
   ],
   "source": [
    "clf_tfidf=sklearn.linear_model.LogisticRegression(C=30,class_weight='balanced',solver='newton-cg',multi_class='multinomial',n_jobs=-1,random_state=40)\n",
    "clf_tfidf.fit(X_train_tfidf,Y_train)\n",
    "Y_predicted_tfidf=clf_tfidf.predict(X_test_tfidf)\n",
    "get_metrics(Y_test,Y_predicted_tfidf)"
   ]
  },
  {
   "cell_type": "markdown",
   "metadata": {},
   "source": [
    "Performance with this model are pretty good but we would like to bring them up to around a few BP of mistakes."
   ]
  },
  {
   "cell_type": "code",
   "execution_count": 65,
   "metadata": {},
   "outputs": [
    {
     "data": {
      "text/plain": [
       "array([[58,  3],\n",
       "       [ 4, 55]])"
      ]
     },
     "execution_count": 65,
     "metadata": {},
     "output_type": "execute_result"
    }
   ],
   "source": [
    "myCM=sklearn.metrics.confusion_matrix(Y_test,Y_predicted_tfidf)\n",
    "myCM"
   ]
  },
  {
   "cell_type": "markdown",
   "metadata": {},
   "source": [
    "TP=57, FP=1, FN=4, TN=58 ;\n",
    "There are slightly more FN than FP, meaning the model is slightly more likely to be wrong when categorizing as Not SIngleStock while they are actually."
   ]
  },
  {
   "cell_type": "code",
   "execution_count": 66,
   "metadata": {},
   "outputs": [
    {
     "name": "stdout",
     "output_type": "stream",
     "text": [
      "Predicted wrong: Is_SingleStock - MORGAN STANLEY & CO. LLC\n",
      "Ricky R Goldwasser\n",
      "EQUITY ANALYST\n",
      "Ricky.Goldwasser@morganstanley.com\n",
      "Mark Rosenblum\n",
      "RESEARCH ASSOCIATE\n",
      "Mark.Rosenblum@morganstanley.com\n",
      "Rose V Lauricella\n",
      "RESEARCH ASSOCIATE\n",
      "Rose.Lauricella@morganstanley.com\n",
      "\n",
      "Healthcare Services & Distribution\n",
      "North America\n",
      "IndustryView\n",
      "\n",
      "+1 212 761-4097\n",
      "\n",
      "+1 212 761-6235\n",
      "\n",
      "+1 212 761-8118\n",
      "\n",
      "In-Line\n",
      "\n",
      "April 20, 2018 04:01 AM GMT\n",
      "\n",
      "Healthcare Services & Distribution\n",
      "Healthcare Services & Distribution\n",
      "Taking FY19 Estimates Below\n",
      "Cons\n",
      "\n",
      "Headwinds are weighing on Cardinal's earning power. Back on August 2nd, 2017\n",
      "and prior to tax reform, Cardinal management guided to EPS of at least $5.60 in\n",
      "FY19 (or $5.80 including the benefit from tax reform). Since then, a combination\n",
      "of company specific and broader industry headwinds have weighed on earnings,\n",
      "causing investors to wonder whether Cardinal can achieve its FY19 target. Our\n",
      "FY19 earnings crosswalk implies an FY19 EPS range of $5.49 to $5.87 (midpoint of\n",
      "$5.68), compared to cons of $6.09. Accordingly, we are lowering our FY19\n",
      "estimate to $5.73. Key swing factors include the Pharmerica account loss,\n",
      "customer initiatives, and potential pricing headwinds in the medical supplies\n",
      "business as well as the broader impact of generic deflation.\n",
      "\n",
      "Model updates. We now model FY19/FY20 revenues of $140.3/$146.2 billion\n",
      "versus prior estimates of $140.2/$146.1 billion and consensus at $141.1/$147.1\n",
      "billion. EBIT of $2,706/$2,716 million versus prior estimates of $2,840/$2,887\n",
      "million and consensus at $2,961/$3,109 million. This translates to EPS of\n",
      "$5.73/$5.94 versus prior estimates of $6.16/$6.54 and consensus at $6.09/$6.61.\n",
      "\n",
      "Morgan Stanley does and seeks to do business with\n",
      "companies covered in Morgan Stanley Research. As a\n",
      "result, investors should be aware that the firm may have a\n",
      "conflict of interest that could affect the objectivity of\n",
      "Morgan Stanley Research. Investors should consider\n",
      "Morgan Stanley Research as only a single factor in making\n",
      "their investment decision.\n",
      "For analyst certification and other important disclosures,\n",
      "refer to the Disclosure Section, located at the end of this\n",
      "report.\n",
      "\n",
      "1\n",
      "\n",
      "\f",
      "\n",
      "Predicted wrong: Is_SingleStock - Europe Equity Research\n",
      "European Capital Goods\n",
      "Summary read-through from recent results\n",
      "\n",
      "19 April 2018\n",
      "\n",
      "With this report we summarize relevant data-points from the  ongoing industrial reporting season. Schneider’s \n",
      "strong growth was the key surprise from today’s report, with >9% organic growth in Low Voltage and Industry \n",
      "Automation  despite  a  negative  trading  day  impact.  The  company  highlighted  a  strong  economy,  driven  by \n",
      "Emerging Markets with growth acceleration in China, but it also attributed growth to market share gains. We \n",
      "can judge that once peers like Legrand, Siemens, Eaton and Rockwell have reported. We expect Siemens to also \n",
      "show an acceleration in growth in Digital Factory (from 7% to 9%) while Rockwell indicated mid-single-digit \n",
      "growth at our conference in mid-March. Should Legrand’s growth fall short, the claim of Schneider that it has \n",
      "been gaining share against Legrand may start the get validated and negatively impact Legrand given the very \n",
      "substantial premium vs market leader Schneider. ABB also showed better growth, mainly in Robotics & Motion,\n",
      "and  managed  to  offset  a  larger  share  of  raw  material  headwinds  with  price  and  cost  actions  than  in  recent\n",
      "quarters, a positive  datapoint on pricing  in  electrical  products and  motors and drives. On the  other hand, flat \n",
      "base order growth in Industry Automation shows a much weaker trend in process automation markets by ABB \n",
      "than  some  of  its  peers,  similar  to  H2  last  year.  While  some  of  this  is  explained  by  the  business  mix  to \n",
      "“expensive”  oil  in  the  North  Sea/Offshore,  it  is  something  to  watch  on  market  shares  (key  competitors  are \n",
      "Emerson, Schneider (Invensys), Honeywell,  Yokogawa). Both ABB and Schneider reported slower growth in \n",
      "Europe  but  this  was  mostly  explained  by  trading  days/backlog/larger  orders  and  there  is  clearly  more  macro \n",
      "momentum in China and the Emerging Markets more generally followed by the US when compared to Europe, a \n",
      "negative for companies with high exposure to Europe such as Legrand or Rexel. United Rentals reported strong \n",
      "Q1 results,  a  positive  for  Ashtead  but  the  negative  share  price  reaction  at  URI  was  mainly  due  to  margin \n",
      "disappointment,  impacted  by  higher  cost  of  equipment  rentals.  However,\n",
      "the  continued  positive  rate \n",
      "development and the acceleration to close to +3% y/y is a positive read-across for Ashtead. TSMC raised FY’18 \n",
      "capex outlook by ~9% to $11.5-12bn (at mp), driven by orders for High-NA EUV tools. This provides upside to \n",
      "the preliminary flattish outlook given by foundry players at full-year results, driven by the transition to the next-\n",
      "generation lithography technology (like EUV), a positive for Atlas Copco’s Vacuum business. Overall TSMC \n",
      "guided  to  lower  revenues  in  Q2  due  to  a  weaker  smart  phone  outlook,  which  could  impact  tech-driven \n",
      "automation capex in the coming  quarters. Grainger upgraded its revenue guidance  for the  US segment to 7% \n",
      "from 6% for the year in terms of volume growth and should see stable monthly growth rates through Q1.\n",
      "Table 1: Stock price reaction and key highlight\n",
      "Stock\n",
      "\n",
      "Key feature/number\n",
      "\n",
      "Day of \n",
      "report\n",
      "\n",
      "19-Apr\n",
      "\n",
      "Share price reaction\n",
      "on first day of trading \n",
      "\n",
      "after release\n",
      "\n",
      "4%\n",
      "\n",
      "4%\n",
      "4%\n",
      "\n",
      "18-Apr\n",
      "19-Apr\n",
      "\n",
      "ABB \n",
      "Alcoa\n",
      "Aveva\n",
      "Danaher\n",
      "Grainger\n",
      "PTC*\n",
      "Schneider Electric\n",
      "TSMC\n",
      "United Rental*\n",
      "Wabco\n",
      "Source: *As of 5.00pm UK on 19/04/2018 *reported after close on 18th Apr\n",
      "\n",
      "19-Apr\n",
      "19-Apr\n",
      "18-Apr\n",
      "19-Apr\n",
      "19-Apr\n",
      "18-Apr\n",
      "19-Apr\n",
      "\n",
      "-1%\n",
      "4%\n",
      "1%\n",
      "2%\n",
      "3%\n",
      "-6%\n",
      "-3%\n",
      "\n",
      "Better Q1 than expected but in line with earlier consensus, with all divisions beat and showed margin \n",
      "improvement\n",
      "Reiterated 2018 global aluminium demand growth of 4.25-5.25%\n",
      "Heritage Schneider Electric Software performed largely in line with H1 (with c.2% underlying and 4% \n",
      "reported)\n",
      "Diagnostic reported impressive organic growth of 9.5%\n",
      "Beat driven by US segment sales and margins\n",
      "Looks for good pipeline for PLM in H2, with full year growth to be at or above market rate\n",
      "Very strong Q1 sales, moving organic growth guidance to higher end of range (+3-5% growth)\n",
      "Raised its capex outlook for 2018 to $11.5bn-12.0bn (vs. $10.5-11bn previously)\n",
      "Q1’18 beat expectations, rental growth came in at +2.7%, end market commentary remains positive\n",
      "Solid quarter as top/bottom line beat on better margins, high expectations\n",
      "\n",
      " ABB  (JPM  covering  analyst  Andreas  Willi,  rated  Neutral).  ABB  reported  a  better  Q1  than  JPMe  and \n",
      "consensus expected and overall a better quarter after the weaker Q4. The beat was driven by 3% due to higher \n",
      "margins, help vs our expectations by not having an FX transaction headwind, 1% better organic sales growth \n",
      "\n",
      "Completed     19 Apr 2018 08:41 PM BSTDisseminated 19 Apr 2018 08:43 PM BST\f",
      "\n",
      "Predicted wrong: Is_SingleStock - North America Equity Research\n",
      "17 April 2018\n",
      "\n",
      "Packaging\n",
      "Tyler J. Langton AC\n",
      "(1-212) 622-5234\n",
      "tyler.j.langton@jpmorgan.com\n",
      "J.P. Morgan Securities LLC\n",
      "\n",
      "     \n",
      "     \n",
      "\n",
      "Packaging\n",
      "1Q18 Earnings Preview; Widening Discount to Market \n",
      "Not Justified Given Solid & Defensive Growth Outlook\n",
      "\n",
      "YTD,  the  packaging  stocks  have  fallen  roughly  4%,  underperforming  the  S&P \n",
      "500  which is roughly  flat.  Nonetheless,  we  still have  a  positive  outlook  for the \n",
      "group.  While  1Q18  EPS  growth  for  the packaging  companies  in  our  coverage \n",
      "universe of 13% y/y should lag consensus EPS growth of 21% for the S&P 500, \n",
      "y/y  EPS  growth  for  the  packagers  of  20%  for  2018  should  be  in  line  with \n",
      "consensus  growth  estimates  for  the  S&P.  This  growth  from  the  packaging \n",
      "companies  should  also  be  more  defensive  in  nature,  with  acquisitions  and \n",
      "synergies from deals being the largest driver of this growth. Despite this positive \n",
      "outlook, the packagers have seen relative and absolute weakness in their multiples, \n",
      "with  the  packagers  EV/EBITDA  discount  to  the  market  having  widened  from \n",
      "historic averages. BLL, BERY, and CCK remain our top picks as they should see \n",
      "strong  EPS  and  FCF  growth,  while  the  market,  in  our  view,  is  discounting  too \n",
      "pessimistic  an  outlook  for  the benefits  from  recent  acquisitions.  Specifically, \n",
      "BERY is trading at a 2019E FCF yield of 9.8%, BLL at 8.0%, and CCK at 10.0%.\n",
      "\n",
      " ARD – results up y/y on Fx and modest gains in cans. On a USD basis for \n",
      "both  1Q17  and  1Q18,  Q1  EPS  should  be  up  around  7%  y/y,  with  results \n",
      "benefitting  from  a  weaker  dollar.  Metal  Americas  and  Europe  should  benefit \n",
      "from modest volume gains. Glass Europe volumes should be down due to tough \n",
      "comps,  while  results  in  Glass  North  should  decrease  on  continued  volume \n",
      "declines and still elevated freight and logistics costs. Our estimates are in line \n",
      "with  the  company's  guidance,  and  we  wouldn't  expect  ARD  to  make  any \n",
      "meaningful changes to its 2018E guidance.\n",
      "\n",
      " BERY  – solid  growth  while  cost  pressure  should  improve  further  after \n",
      "F2Q. F2Q EPS should increase roughly 9% y/y. EBITDA in Consumer should \n",
      "be down slightly on modest volume declines while HH&S should be about flat \n",
      "as  contributions  from  Clopay  offset  cost  pressures.  EM  should  be  up  with  a \n",
      "small  contribution  from  AEP  before  it  laps  and  recovery  of  costs  more  than \n",
      "offsetting low-single digit volume declines. While BERY's F2Q results should \n",
      "still  be  impacted  by  the  lagged  pass-through  of  higher  resin  costs,  we  think \n",
      "BERY should ultimately recover these higher resin costs over time while results \n",
      "in South America should gradually improve. We continue to believe that BERY \n",
      "will slightly exceed its F2018FCF guidance, and we would expect the company \n",
      "to maintain its guidance with its F2Q earnings.\n",
      "\n",
      " BLL  – strong  growth  from  Rexam  synergies  and  footprint  optimizations. \n",
      "Q1  EPS  should  be  up  roughly  23%  y/y,  with  EBITDA  up  about  17%.  The \n",
      "increase should be driven by synergies from the Rexam acquisition and footprint \n",
      "optimizations, global beverage can growth, improved earnings in Aerospace as \n",
      "the higher backlog flows through, and a lower share count from buybacks. We \n",
      "don’t expect BLL to make any changes to its 2018 FCF guidance or its 2019 \n",
      "EBITDA  (greater  than  $2.0bn)  and  FCF  (greater  than  $1.0bn)  guidance.  Our \n",
      "2018E FCF is just slightly above the company’s guidance.\n",
      "\n",
      "See page 13 for analyst certification and important disclosures.\n",
      "J.P. Morgan does and seeks to do business with companies covered in its research reports. As a result, investors should be aware that the \n",
      "firm may have a conflict of interest that could affect the objectivity of this report. Investors should consider this report as only a single factor in \n",
      "making their investment decision.\n",
      "\n",
      "www.jpmorganmarkets.com\n",
      "\n",
      "Completed     16 Apr 2018 06:19 PM EDTDisseminated 17 Apr 2018 12:15 AM EDT\f",
      "\n",
      "Predicted wrong: IsNot_SingleStock - North America Equity Research\n",
      "11 April 2018\n",
      "\n",
      "TGT, TGT US\n",
      "Neutral\n",
      "Price: $72.79\n",
      "Price Target: $76.00\n",
      "\n",
      "ULTA, ULTA US\n",
      "Overweight\n",
      "Price: $221.06\n",
      "Price Target: $282.00\n",
      "\n",
      "Retailing/Broadlines & Hardlines\n",
      "Christopher Horvers, CFA AC\n",
      "(1-212) 622-1316\n",
      "christopher.horvers@jpmorgan.com\n",
      "Bloomberg JPMA HORVERS <GO>\n",
      "Tami Zakaria, CFA\n",
      "(1-212) 622-9888\n",
      "tami.zakaria@jpmorgan.com\n",
      "Tori K Bertschy\n",
      "(1-212) 622-0826\n",
      "tori.bertschy@jpmorgan.com\n",
      "C. Jerry Sullivan\n",
      "(1-212) 622-5928\n",
      "jerry.sullivan@jpmorgan.com\n",
      "J.P. Morgan Securities LLC\n",
      "\n",
      "Broadlines & Hardlines Retail\n",
      "Spring Fling Part I: TGT and ULTA Management \n",
      "Takeaways\n",
      "\n",
      "We  hosted  our  seventh  annual  Spring  Fling  with  management  and  investor \n",
      "relations from TGT and ULTA.  The event included a fireside chat and tour of \n",
      "TGT and ULTA’s new NYC locations (both opened this past fall).  We will be \n",
      "hosting the second leg of our Spring Fling later this month with HD and LOW.  \n",
      "\n",
      " TGT: innovative Herald Square location hits the mark.  The fireside chat/tour \n",
      "was  led  by  Senior  Group  VP  of  Stores, Tony  Roman, IR  Vice  President, John \n",
      "Hulbert,  and  IR  Group  Manager  Robert  Nichols.    The  store  is  one  of  TGT’s \n",
      "largest  urban  formats  (two  levels  in  the  very  busy  Herald  Square  area)  with \n",
      "grab/go  items  and  a teaser  of  merchandise  more  widely  stocked  on  the  lower \n",
      "level.    We  were  impressed  with  the  location,  format,  and  market-specific \n",
      "merchandising  (e.g.,  one  entrance  merchandised  for  local  commuters  and  the \n",
      "other for tourists with plenty of pack size and décor considerations evidenced in \n",
      "the  assortment).    Showing  TGT’s  planned  flexibility,  the  store  had  16  self-\n",
      "checkout lanes (~two thirds of transactions) with only a handful of full- service \n",
      "registers.  See the full note for a detailed write up and pics of the store tour.  \n",
      "\n",
      " TGT: nine key takeaways.  (1) TGT believes its growing assortment of fulfillment \n",
      "options (see our detailed Analyst Day note) covers the gamut of current consumer \n",
      "demands (with grocery curbside being tested in Minneapolis this year).  (2) As we \n",
      "noted in our recent \"Share of Wallet\" analysis/conference call, the consumer was \n",
      "quite euphoric this past holiday (core retail sales accelerating to 6% from 3% to start \n",
      "2017) with increased spending on discretionary items due to confidence and wallet \n",
      "share benefits.  While the pace of spending has moderated, and weather is likely a \n",
      "temporary headwind/cross current to the seasonal business, the underlying consumer \n",
      "tenor remains a tailwind for retailers like TGT.  TGT also benefits  from the 53rd\n",
      "week shift that gives it a later spring week in 1Q to take another bite of the seasonal \n",
      "apple.  We continue to model a 1.8% SSS gain in 1Q (consensus of 2.3%).  (3) With \n",
      "clean inventory levels, unless spring skips to summer late in the season, we believe \n",
      "markdown risk is currently modest.  (4) While there is a lot of talk of accelerating \n",
      "price  investments,  TGT  is  not  seeing  a  big  shift  in  the  environment  from  its \n",
      "traditional  competitors  (e.g.,  WMT).    (5) In  response  to  a  skeptical  volley  of \n",
      "questions regarding wage investments and the ability for TGT to digest them within \n",
      "their  2018  guide  for  flat-to-slight  SG&A  deleverage  (ex-D&A),  TGT  expressed \n",
      "confidence  in its  efficiency  opportunities  (e.g.,  fewer hours  in-store  for  inventory \n",
      "receiving/stocking,  and  more  self-checkout, \n",
      "latter  perhaps  40-50%  of \n",
      "transactions and growing as more lanes are rolled out across the chain).  (6) The \n",
      "other area of debate (no one seemed concerned on the +LSD comp guide) was the \n",
      "2018 gross margin outlook for a flat to slightly higher rate.  Management noted that \n",
      "they  will  annualize  the  initial  price  investment  reset  by  mid-year,  ecommerce \n",
      "fulfillment  pressures  (40  bps  each  of  the  past  two  years)  should  improve  and \n",
      "combine with better mix (private label and lower electronics mix) to offset the cost \n",
      "of the numerous new fulfillment options TGT is rolling in 2018 (e.g., Shipt rollout to \n",
      "all major markets, Restock to 40 markets from 11, and non-grocery curbside pick-up \n",
      "in 1,000 stores by holiday).  (7) While the company wouldn't comment on the comp \n",
      "outlook for 4Q, with toys peaking in the mix that quarter (8-10%e of sales in 4Q) \n",
      "\n",
      "the \n",
      "\n",
      "See page 22 for analyst certification and important disclosures.\n",
      "J.P. Morgan does and seeks to do business with companies covered in its research reports. As a result, investors should be aware that \n",
      "the firm may have a conflict of interest that could affect the objectivity of this report. Investors should consider this report as only a single \n",
      "factor in making their investment decision.\n",
      "\n",
      "www.jpmorganmarkets.com\n",
      "\n",
      "Completed     10 Apr 2018 09:52 PM EDTDisseminated 11 Apr 2018 12:15 AM EDT\f",
      "\n",
      "Predicted wrong: IsNot_SingleStock - North America Equity Research\n",
      "19 April 2018\n",
      "\n",
      "Energy MLPs\n",
      "Jeremy Tonet, CFA AC\n",
      "(1-212) 622-4915\n",
      "jeremy.b.tonet@jpmorgan.com\n",
      "Bloomberg JPMA TONET <GO>\n",
      "Andrew R Burd\n",
      "(1-212) 622-2316\n",
      "andrew.burd@jpmorgan.com\n",
      "Charlie W Barber\n",
      "(1-212) 622-3301\n",
      "charlie.w.barber@jpmorgan.com\n",
      "William P Kawas, CFA\n",
      "(1-212) 622-9243\n",
      "william.p.kawas@jpmorgan.com\n",
      "Rahul Krotthapalli\n",
      "(1-212) 622-2408\n",
      "rahul.krotthapalli@jpmorgan.com\n",
      "J.P. Morgan Securities LLC\n",
      "\n",
      "Cheniere Energy\n",
      "1Q18 Should be Strong & CCL3 Likely Imminent; Well \n",
      "Positioned for the Next Wave of Growth, Raising PT\n",
      "\n",
      "Few  industry  observers  doubt  that  North  American  natgas  production \n",
      "growth should continue to increase at a robust pace (see EIA gas outlook).\n",
      "LNG  exports  serve  as  the  key demand  balance  (see  recent  Shell  LNG \n",
      "outlook),  and  we  see  few  companies  better  positioned  to  benefit  from \n",
      "advantaged US  natgas  production  and  strong  global  LNG  demand  than \n",
      "pure-play exporter Cheniere. As the first mover with dominant scale, and \n",
      "with its initial seven trains expected to generate $1.5-1.7bn DCF/yr once \n",
      "fully in service (with no need to issue equity), we believe Cheniere offers \n",
      "value  as  either  a  growth  vehicle  (additional  trains),  attractive  returner of \n",
      "capital (via  buybacks  and/or  dividends), or  as  an  acquisition  target  by  a \n",
      "strategic player (RDS, XOM, TRP) longer term. With shares trading at a \n",
      "~12%  yield  on 2020e DCF,  we  recommend  CEI  as  a  core  holding  for \n",
      "energy investors, with incremental trains seen as upside.\n",
      " Strong 1Q  expected, but  CMI tailwinds  unlikely  to  repeat near-\n",
      "term. While  4Q17  CQP  results  reflected  strong  CMI  margins,  we \n",
      "believe revenue recognition timing pushed much of the strong December \n",
      "contribution  into  1Q18 for  CEI.  As  such,  we  expect  CEI  recovers  the \n",
      "4Q17  variance  versus  Street  estimates  (see  note)  with 1Q18 results, \n",
      "which combined with strong global LNG prices early in the year should\n",
      "drive  a  solid  quarter.  As  we  have  previously  discussed  these  factors  in \n",
      "earlier notes,  we  believe  these  factors  should  be  well  known  to  the \n",
      "market. Barring a substantial surge in 4Q spot LNG (still less capture due \n",
      "to lower CMI availability), we expect 1Q18 will likely prove CEI’s best \n",
      "quarter of 2018 due to lower CMI volumes and margins going forward.\n",
      "\n",
      " Cheniere  outperforming,  but  is  geopolitics  the  new  crude  oil  beta?\n",
      "Cheniere  continues its  impressive  outperformance since  our  initiation\n",
      "(3/4/16),  with  LNG/CQP/CQH  up  9%/5%/3% YTD,  respectively, \n",
      "outperforming the S&P Energy Index (+3% YTD) and the Alerian MLP \n",
      "Index  (-5%).  When broader  energy  indices  sold  off  in  1Q18,  the \n",
      "Cheniere trio averaged about flat despite profit taking, midstream sector \n",
      "weakness  and  geopolitical  headlines  dragging performance after  4Q17 \n",
      "results  on  2/21.  Much  like  a  sporadic correlation  to  crude  oil  prices \n",
      "seemed  to  influence CEI  shares in  2016-17;  current  geopolitical  news \n",
      "headlines (North  Korea  tensions  or  trade  issues  with  China)  seems to\n",
      "unfairly influence Cheniere’s stock price on a given day due to China’s \n",
      "central role in anticipated global LNG demand growth.\n",
      "\n",
      "Equity Ratings and Price Targets\n",
      "\n",
      "Ticker\n",
      "LNG US\n",
      "CQP US\n",
      "CQH US\n",
      "\n",
      "Company\n",
      "Cheniere Energy, Inc.\n",
      "Cheniere Energy Partners, L.P.\n",
      "Cheniere Energy Partners LP Holdings, LLC\n",
      "Source: Company data, Bloomberg, J.P. Morgan estimates. n/c = no change. All prices as of 19 Apr 18.\n",
      "See page 18 for analyst certification and important disclosures.\n",
      "J.P. Morgan does and seeks to do business with companies covered in its research reports. As a result, investors should be aware that \n",
      "the firm may have a conflict of interest that could affect the objectivity of this report. Investors should consider this report as only a single \n",
      "factor in making their investment decision.\n",
      "\n",
      "Price ($)\n",
      "58.82\n",
      "30.71\n",
      "27.91\n",
      "\n",
      "Cur\n",
      "OW\n",
      "OW\n",
      "OW\n",
      "\n",
      "Mkt Cap\n",
      "($ mn)\n",
      "13,975.63\n",
      "14,863.64\n",
      "6,466.75\n",
      "\n",
      "Rating\n",
      "\n",
      "Prev\n",
      "n/c\n",
      "n/c\n",
      "n/c\n",
      "\n",
      "Price Target\n",
      "Cur\n",
      "69.00\n",
      "36.00\n",
      "31.00\n",
      "\n",
      "Prev\n",
      "66.00\n",
      "n/c\n",
      "n/c\n",
      "\n",
      "www.jpmorganmarkets.com\n",
      "\n",
      "Completed     19 Apr 2018 08:10 PM EDTDisseminated 19 Apr 2018 08:11 PM EDT\f",
      "\n",
      "Predicted wrong: IsNot_SingleStock - April 13, 2018 04:01 AM GMT\n",
      "\n",
      "Public Service Enterprise Group Inc\n",
      "Public Service Enterprise Group Inc\n",
      "Potential PEG Upside Driver: NJ\n",
      "Nuclear Support Bill Clears\n",
      "Legislature\n",
      "\n",
      " Stock Rating\n",
      "Overweight\n",
      "\n",
      " Industry View\n",
      "Attractive\n",
      "\n",
      " Price Target\n",
      "$57.00\n",
      "\n",
      "Yesterday, the New Jersey State Legislature passed the \"zero\n",
      "emissions certificate program\", which includes payment\n",
      "provisions to support at-risk nuclear plants. We view the\n",
      "passage of the bill as a positive for PEG and EXC and see\n",
      "incremental upside to our estimates pending Governor\n",
      "signature.\n",
      "\n",
      "Yesterday the New Jersey House and Senate voted to pass several bills that will\n",
      "influence energy policy in the state and benefit PEG's merchant nuclear plants:\n",
      "\n",
      "The \"zero emissions certificate program\" (S2313 / A3724) which includes\n",
      "provisions to provide support to the state's at-risk nuclear plants through\n",
      "the form of Zero Emission Credit (ZEC) payment\n",
      "\n",
      "A clean energy bill (S2314 / A3723) that modifies the state's renewable\n",
      "energy portfolio standards (RPS) - directing an increase in renewable\n",
      "energy supply to 21% of the total electricity sold in the state by 2020, 35%\n",
      "by 2025, and 50% by 2050. It also includes provisions to ensure rates\n",
      "don't rise by more than 9% in 2019-2021 and 7% annually thereafter.\n",
      "Storage goals would be introduced at 600 MW by 2021 and 2,000 MW by\n",
      "2030, as well as an offshore wind program of 3,500 MW.\n",
      "\n",
      "We see the nuclear ZEC program as a positive for PEG (OW), whose two\n",
      "merchant nuclear plants in NJ (Hope Creek and Salem) could see up to a\n",
      "~$200mm EBITDA benefit collectively if all of their output qualified for the\n",
      "payments. We estimate that the earnings uplift from the implementation of\n",
      "these ZECs payments could be up to $0.30 at PSEG Power, driving a ~$2.50-\n",
      "3.00/share value. Our base-case estimates do not yet include any such benefit,\n",
      "and we would increase our estimates upon the governor's signature.\n",
      "\n",
      "To participate in the ZEC program, a nuclear power plant is required to:\n",
      "\n",
      "1.  Be licensed to operate by the United States Nuclear Regulatory\n",
      "\n",
      "Commission by the date of enactment of this committee substitute and\n",
      "through 2030 or later;\n",
      "\n",
      "2.  Demonstrate to the satisfaction of the board that it makes a significant\n",
      "\n",
      "MORGAN STANLEY & CO. LLC\n",
      "Stephen C Byrd\n",
      "EQUITY ANALYST\n",
      "Stephen.Byrd@morganstanley.com\n",
      "David Arcaro, CFA\n",
      "RESEARCH ASSOCIATE\n",
      "David.Arcaro@morganstanley.com\n",
      "Ethan C Ellison\n",
      "RESEARCH ASSOCIATE\n",
      "Ethan.Ellison@morganstanley.com\n",
      "Arman Tabatabai\n",
      "RESEARCH ASSOCIATE\n",
      "Arman.Tabatabai@morganstanley.com\n",
      "\n",
      "+1 212 761-3865\n",
      "\n",
      "+1 212 761-1817\n",
      "\n",
      "+1 212 296-5124\n",
      "\n",
      "+1 212 761-6358\n",
      "\n",
      "Public Service Enterprise Group Inc ( PEG.N, PEG US\n",
      ") \n",
      "Diversified Utilities / IPPs / United States of America\n",
      "Stock Rating\n",
      "Industry View\n",
      "Price target\n",
      "Shr price, close (Apr 12, 2018)\n",
      "Mkt cap, curr (mm)\n",
      "52-Week Range\n",
      "\n",
      "Overweight\n",
      "Attractive\n",
      "$57.00\n",
      "$49.44\n",
      "$25,215\n",
      "$53.24-41.67\n",
      "\n",
      "Morgan Stanley does and seeks to do business with\n",
      "companies covered in Morgan Stanley Research. As a\n",
      "result, investors should be aware that the firm may have a\n",
      "conflict of interest that could affect the objectivity of\n",
      "Morgan Stanley Research. Investors should consider\n",
      "Morgan Stanley Research as only a single factor in making\n",
      "their investment decision.\n",
      "For analyst certification and other important disclosures,\n",
      "refer to the Disclosure Section, located at the end of this\n",
      "report.\n",
      "\n",
      "1\n",
      "\n",
      "\f",
      "\n",
      "Predicted wrong: IsNot_SingleStock - North America Equity Research\n",
      "J.M. Smucker Co. (SJM US)\n",
      "Catching Some Rays – Analysis of SJM's Deal for \n",
      "Rachael Ray's Nutrish Pet Food (And Sale of Baking)\n",
      "\n",
      "05 April 2018\n",
      "Neutral\n",
      "Price: $123.70\n",
      "04 Apr 2018\n",
      "\n",
      "In  this  note,  we  analyze  the  impact  on  SJM  of  yesterday’s  announcements:  1)  the  pending  acquisition  of \n",
      "Ainsworth (2/3 of which is the Rachael Ray Nutrish brand of pet food), and 2) the potential divestiture of SJM’s \n",
      "US baking business. \n",
      "On the  one  hand, SJM paid significantly less for Ainsworth than GIS did for BUFF, Ainsworth will increase \n",
      "SJM’s growth profile over time, and we think Ainsworth has plenty of distribution runway ahead. On the other \n",
      "hand,  the  Rachael  Ray brand’s  growth  in  measured  channels  has  decelerated  lately  despite  an  increased \n",
      "percentage  of  sales  on  promo,  which  raises  the  question  of  whether  SJM  is  buying  the  asset  at  its  peak \n",
      "(reminiscent  of  when  it  bought  Big  Heart  Pet).  And  when  we  net  out  the  impact  of  adding  Ainsworth  and \n",
      "subtracting baking, we get similar EPS for FY19E and FY20E but more debt and greater integration/execution \n",
      "risk.\n",
      "\n",
      "Overall, we are  modestly supportive  of the transactions; despite the risks, we are not against food companies \n",
      "taking  on  a  reasonable  amount  of  debt  to  upgrade  their  growth  algorithms. But  the  proof  will  be  in  the \n",
      "execution.\n",
      "In a separate note today, we tweaked our EPS estimates (FY19E went up by $0.01 to $9.18, FY20E went down \n",
      "by  $0.07  to  $9.72).  A  number  of  items  drove  the  changes,  including  a)  updated  commodity  costs,  b)  our \n",
      "expectation of a continued difficult retail environment, and c) our inclusion of the Ainsworth and baking deals. \n",
      "We also lowered our December 2018 price target to $128 from $132 to reflect not only slightly lower FY20E \n",
      "estimates but also higher debt on the balance sheet.\n",
      "Adding Ainsworth\n",
      "Smucker  announced  after  the  close  yesterday  that  it  agreed  to  buy  Ainsworth  Pet  Nutrition,  owner of  the \n",
      "Rachael Ray Nutrish brand, for $1.9B in cash. Guidance details are as follows:\n",
      "Figure 1: SJM Guidance for Ainsworth Deal\n",
      "Item\n",
      "Net Sales\n",
      "EBITDA\n",
      "Implied NTM Pre-Synergy EBITDA Mgn 10.6% = (110-25)/800\n",
      "Annual Cost Synergies\n",
      "EPS Accretion (Year One)\n",
      "Cash Tax Benefit\n",
      "Deal Price\n",
      "EBITDA Valuation\n",
      "One-Time Costs\n",
      "Employees\n",
      "Co-Packing Plants/Services\n",
      "Expected Closing\n",
      "Brands\n",
      "Manufacturing\n",
      "Source: Company reports.\n",
      "\n",
      "55MM within three years, 25MM in first year\n",
      "$0.25\n",
      "200MM (likely from NPV of D&A tax shield, we believe)\n",
      "1.9B, funded with debt\n",
      "12x incl. tax (-200 from EV) and full synergies (110-25+55)\n",
      "50MM, mostly cash, 2/3 of one-time costs are in year one\n",
      ">700 coming to SJM\n",
      "Not included in deal\n",
      "Early in FY19\n",
      "Rachael Ray Nutrish (2/3), Better Than!, Dad's, Pure Balance\n",
      "Meadville, PA; Frontenac, KS\n",
      "\n",
      "Guidance\n",
      "Approx 800MM in first full year after close\n",
      "110MM in first year (ex-one-time costs, incl 25MM in synergies)\n",
      "\n",
      "Completed     05 Apr 2018 02:26 AM EDTDisseminated 05 Apr 2018 02:46 AM EDT\f",
      "\n"
     ]
    }
   ],
   "source": [
    "i=0\n",
    "for name in X_test:\n",
    "    if Y_test[i]!=Y_predicted_tfidf[i]:\n",
    "        print('Predicted wrong: '+str(Y_predicted_tfidf[i])+\" - \" +str(name))\n",
    "    i+=1"
   ]
  },
  {
   "cell_type": "markdown",
   "metadata": {},
   "source": [
    "Based off these good performances, let's try to find the most discriminating words"
   ]
  },
  {
   "cell_type": "code",
   "execution_count": 67,
   "metadata": {},
   "outputs": [],
   "source": [
    "def get_ranked_words(vectorizer,model,n=10):\n",
    "    index_to_word={v:k for k,v in vectorizer.vocabulary_.items()}\n",
    "    \n",
    "    classes={}\n",
    "    for class_index in range(model.coef_.shape[0]):\n",
    "        word_importances=[(j,index_to_word[i]) for i,j in enumerate(model.coef_[class_index])]\n",
    "        sorted_coeff=sorted(word_importances, reverse=True)\n",
    "        tops=sorted(sorted_coeff[:n])\n",
    "        bottoms=sorted_coeff[-n:]\n",
    "        classes[class_index]={'tops':tops,'bottoms':bottoms}\n",
    "        return classes"
   ]
  },
  {
   "cell_type": "code",
   "execution_count": 68,
   "metadata": {},
   "outputs": [
    {
     "data": {
      "text/plain": [
       "{0: {'bottoms': [(-1.3278986452551464, 'noah'),\n",
       "   (-1.3407679190443837, 'weisberger'),\n",
       "   (-1.3407679190443837, 'timcenko'),\n",
       "   (-1.3407679190443837, 'essentials'),\n",
       "   (-1.3784696154414309, '1q18'),\n",
       "   (-1.4199262557371073, 'strategy'),\n",
       "   (-1.456732833303023, 'asia'),\n",
       "   (-1.4746367312659827, '20'),\n",
       "   (-1.486150302338816, 'banks'),\n",
       "   (-1.8776062470257846, 'earnings')],\n",
       "  'tops': [(1.78393318998712, 'amazon'),\n",
       "   (1.7983541147287665, 'modelware'),\n",
       "   (1.84900911095682, 'stock'),\n",
       "   (2.063889820431838, 'inc'),\n",
       "   (2.1500273924561246, 'mm'),\n",
       "   (2.5138291116659395, '00'),\n",
       "   (2.6156744186408556, 'target'),\n",
       "   (2.9034705645033725, 'eps'),\n",
       "   (3.415773613473906, 'cid'),\n",
       "   (3.906233661211242, 'price')]}}"
      ]
     },
     "execution_count": 68,
     "metadata": {},
     "output_type": "execute_result"
    }
   ],
   "source": [
    "importance=get_ranked_words(tfidf_vectorizer,clf_tfidf)\n",
    "importance"
   ]
  },
  {
   "cell_type": "markdown",
   "metadata": {},
   "source": [
    "The model shows clear learning pattern with the different company suffixes but also bernstein and sanford which seem odd."
   ]
  },
  {
   "cell_type": "markdown",
   "metadata": {},
   "source": [
    "Let's try to use Word2vec out of curiosity."
   ]
  },
  {
   "cell_type": "code",
   "execution_count": 29,
   "metadata": {},
   "outputs": [],
   "source": [
    "nlp=spacy.load('en')\n",
    "#This function takes as an argument the list of names/tokens and returns the average word embeddings\n",
    "def get_word2vec_embeddings(sentence):\n",
    "    vectorized=[nlp(word).vector for word in sentence.split()]\n",
    "    embeddings=np.divide(sum(vectorized),len(vectorized))\n",
    "    return embeddings"
   ]
  },
  {
   "cell_type": "code",
   "execution_count": 31,
   "metadata": {},
   "outputs": [],
   "source": [
    "tokens = []\n",
    "for name in myListofNames:\n",
    "    tokens.append(get_word2vec_embeddings(name))"
   ]
  },
  {
   "cell_type": "code",
   "execution_count": 32,
   "metadata": {},
   "outputs": [],
   "source": [
    "tsne_model=TSNE(perplexity=40,n_components=2,init='pca',n_iter=2500,random_state=23)\n",
    "new_values = tsne_model.fit_transform(tokens)\n",
    "\n",
    "x=[]\n",
    "y=[]\n",
    "for value in new_values:\n",
    "    x.append(value[0])\n",
    "    y.append(value[1])"
   ]
  },
  {
   "cell_type": "code",
   "execution_count": 33,
   "metadata": {},
   "outputs": [
    {
     "data": {
      "text/plain": [
       "<matplotlib.collections.PathCollection at 0x7f6ae92f6438>"
      ]
     },
     "execution_count": 33,
     "metadata": {},
     "output_type": "execute_result"
    },
    {
     "data": {
      "image/png": "[encoded data removed]",
      "text/plain": [
       "<Figure size 432x288 with 1 Axes>"
      ]
     },
     "metadata": {},
     "output_type": "display_data"
    }
   ],
   "source": [
    "plt.figure()\n",
    "plt.scatter(x,y,c=myListofLabels)"
   ]
  },
  {
   "cell_type": "markdown",
   "metadata": {},
   "source": [
    "Mixed feeling about the use of Word2Vec: may require deeper study into potential applications for supervised learning"
   ]
  },
  {
   "cell_type": "markdown",
   "metadata": {},
   "source": [
    "Let's try to fit a slightly more sophisticated model: an SVM for instance"
   ]
  },
  {
   "cell_type": "code",
   "execution_count": 73,
   "metadata": {},
   "outputs": [
    {
     "data": {
      "text/plain": [
       "(0.9583333333333334,\n",
       " 0.9584722222222222,\n",
       " 0.9583333333333334,\n",
       " 0.9583362270528046)"
      ]
     },
     "execution_count": 73,
     "metadata": {},
     "output_type": "execute_result"
    }
   ],
   "source": [
    "mySVCTFIDF=SVC(kernel='linear').fit(X_train_tfidf,Y_train)\n",
    "Y_predicted_tfidf_SVC=mySVCTFIDF.predict(X_test_tfidf)\n",
    "get_metrics(Y_test,Y_predicted_tfidf_SVC)"
   ]
  },
  {
   "cell_type": "code",
   "execution_count": 31,
   "metadata": {},
   "outputs": [
    {
     "data": {
      "text/plain": [
       "array([0, 0, 0, 0, 0, 0, 0, 0, 0, 0, 0, 0, 0, 0, 0, 0, 0, 0, 0, 0, 0, 0,\n",
       "       0, 0, 0, 0, 0, 0, 0, 0, 0, 0, 0, 0, 0, 0, 0, 0, 0, 0, 0, 0, 0, 0,\n",
       "       0, 0, 0, 0, 0, 0, 0, 0, 0, 0, 0, 0, 0, 0, 0, 0, 0, 0, 0, 0, 0, 0,\n",
       "       0, 0, 0, 0, 0, 0, 0, 0, 0, 0, 0, 0, 0, 0, 0, 0, 0, 0, 0, 0, 0, 0,\n",
       "       0, 0, 0, 0, 0, 0, 0, 0, 0, 0, 0, 0, 0, 0, 0, 0, 0, 0, 0, 0, 0, 0,\n",
       "       0, 0, 0, 0, 0, 0, 0, 0, 0, 0])"
      ]
     },
     "execution_count": 31,
     "metadata": {},
     "output_type": "execute_result"
    }
   ],
   "source": [
    "Y_predicted_tfidf-Y_predicted_tfidf_SVC"
   ]
  },
  {
   "cell_type": "markdown",
   "metadata": {},
   "source": [
    "Looks like both models are doing the same predictions, let's try to enrich the representation vectors before fitting an SVM."
   ]
  },
  {
   "cell_type": "code",
   "execution_count": null,
   "metadata": {},
   "outputs": [],
   "source": []
  },
  {
   "cell_type": "markdown",
   "metadata": {},
   "source": [
    "## Third strategy: using co-occurences over the tickers"
   ]
  },
  {
   "cell_type": "markdown",
   "metadata": {},
   "source": [
    "In order to use co-occurences techniques, we will need to definetely extract part of the PDF to text. We will first focus on the first page for that."
   ]
  },
  {
   "cell_type": "code",
   "execution_count": 11,
   "metadata": {},
   "outputs": [],
   "source": [
    "myTextPath = '/media/sf_Shared/Project_BNKE-EA/Database/Documents_NotesBroker_20180509/ExtractedText_Last.csv'\n",
    "myTickerPath = '/media/sf_Shared/Project_BNKE-EA/Database/BDD_Ticker_20180428/Company Screening Report 2.xls'"
   ]
  },
  {
   "cell_type": "code",
   "execution_count": 12,
   "metadata": {},
   "outputs": [],
   "source": [
    "myTextDF = pd.read_csv(myTextPath)\n",
    "myTickerDF = pd.ExcelFile(myTickerPath).parse('Screening')"
   ]
  },
  {
   "cell_type": "code",
   "execution_count": 13,
   "metadata": {},
   "outputs": [
    {
     "ename": "NameError",
     "evalue": "name 'myDataFrame' is not defined",
     "output_type": "error",
     "traceback": [
      "\u001b[0;31m---------------------------------------------------------------------------\u001b[0m",
      "\u001b[0;31mNameError\u001b[0m                                 Traceback (most recent call last)",
      "\u001b[0;32m<ipython-input-13-696aaa29f9c1>\u001b[0m in \u001b[0;36m<module>\u001b[0;34m()\u001b[0m\n\u001b[0;32m----> 1\u001b[0;31m \u001b[0mmyTextDF\u001b[0m\u001b[0;34m[\u001b[0m\u001b[0;34m'size_file'\u001b[0m\u001b[0;34m]\u001b[0m\u001b[0;34m=\u001b[0m\u001b[0mmyDataFrame\u001b[0m\u001b[0;34m[\u001b[0m\u001b[0;34m'size_file'\u001b[0m\u001b[0;34m]\u001b[0m\u001b[0;34m.\u001b[0m\u001b[0mtolist\u001b[0m\u001b[0;34m(\u001b[0m\u001b[0;34m)\u001b[0m\u001b[0;34m\u001b[0m\u001b[0m\n\u001b[0m\u001b[1;32m      2\u001b[0m \u001b[0mmyTextDF\u001b[0m\u001b[0;34m[\u001b[0m\u001b[0;34m'count_pages'\u001b[0m\u001b[0;34m]\u001b[0m\u001b[0;34m=\u001b[0m\u001b[0mmyDataFrame\u001b[0m\u001b[0;34m[\u001b[0m\u001b[0;34m'count_pages'\u001b[0m\u001b[0;34m]\u001b[0m\u001b[0;34m.\u001b[0m\u001b[0mtolist\u001b[0m\u001b[0;34m(\u001b[0m\u001b[0;34m)\u001b[0m\u001b[0;34m\u001b[0m\u001b[0m\n",
      "\u001b[0;31mNameError\u001b[0m: name 'myDataFrame' is not defined"
     ]
    }
   ],
   "source": [
    "myTextDF['size_file']=myDataFrame['size_file'].tolist()\n",
    "myTextDF['count_pages']=myDataFrame['count_pages'].tolist()"
   ]
  },
  {
   "cell_type": "code",
   "execution_count": 14,
   "metadata": {},
   "outputs": [
    {
     "data": {
      "text/html": [
       "<div>\n",
       "<style scoped>\n",
       "    .dataframe tbody tr th:only-of-type {\n",
       "        vertical-align: middle;\n",
       "    }\n",
       "\n",
       "    .dataframe tbody tr th {\n",
       "        vertical-align: top;\n",
       "    }\n",
       "\n",
       "    .dataframe thead th {\n",
       "        text-align: right;\n",
       "    }\n",
       "</style>\n",
       "<table border=\"1\" class=\"dataframe\">\n",
       "  <thead>\n",
       "    <tr style=\"text-align: right;\">\n",
       "      <th></th>\n",
       "      <th>Unnamed: 0</th>\n",
       "      <th>filename</th>\n",
       "      <th>category</th>\n",
       "      <th>firstpagetext</th>\n",
       "      <th>wordscount</th>\n",
       "    </tr>\n",
       "  </thead>\n",
       "  <tbody>\n",
       "    <tr>\n",
       "      <th>0</th>\n",
       "      <td>0</td>\n",
       "      <td>MorganStanley_UKEconomicsGDPCommentWeak,ButMay...</td>\n",
       "      <td>Economy</td>\n",
       "      <td>April 27, 2018 10:39 AM GMT\\n\\nUK Economics \\n...</td>\n",
       "      <td>784</td>\n",
       "    </tr>\n",
       "    <tr>\n",
       "      <th>1</th>\n",
       "      <td>1</td>\n",
       "      <td>MorganStanley_UKEconomicsStrategyMPCOnceaYearI...</td>\n",
       "      <td>Economy</td>\n",
       "      <td>May 10, 2018 06:11 PM GMT\\n\\nUK Economics &amp; St...</td>\n",
       "      <td>708</td>\n",
       "    </tr>\n",
       "    <tr>\n",
       "      <th>2</th>\n",
       "      <td>2</td>\n",
       "      <td>MorganStanley_UKEconomicsStrategyMPCPreviewHik...</td>\n",
       "      <td>Economy</td>\n",
       "      <td>April 30, 2018 04:00 AM GMT\\n\\nUK Economics &amp; ...</td>\n",
       "      <td>738</td>\n",
       "    </tr>\n",
       "    <tr>\n",
       "      <th>3</th>\n",
       "      <td>3</td>\n",
       "      <td>MorganStanley_UKEconomicsStrategyMPCWeakPMItoD...</td>\n",
       "      <td>Economy</td>\n",
       "      <td>May 3, 2018 10:25 AM GMT\\n\\nUK Economics &amp; Str...</td>\n",
       "      <td>821</td>\n",
       "    </tr>\n",
       "    <tr>\n",
       "      <th>4</th>\n",
       "      <td>4</td>\n",
       "      <td>MorganStanley_USAsiaTradePolicyCardsontheTable...</td>\n",
       "      <td>Economy</td>\n",
       "      <td>April 4, 2018 03:43 PM GMT\\n\\nUS/Asia Trade Po...</td>\n",
       "      <td>274</td>\n",
       "    </tr>\n",
       "  </tbody>\n",
       "</table>\n",
       "</div>"
      ],
      "text/plain": [
       "   Unnamed: 0                                           filename category  \\\n",
       "0           0  MorganStanley_UKEconomicsGDPCommentWeak,ButMay...  Economy   \n",
       "1           1  MorganStanley_UKEconomicsStrategyMPCOnceaYearI...  Economy   \n",
       "2           2  MorganStanley_UKEconomicsStrategyMPCPreviewHik...  Economy   \n",
       "3           3  MorganStanley_UKEconomicsStrategyMPCWeakPMItoD...  Economy   \n",
       "4           4  MorganStanley_USAsiaTradePolicyCardsontheTable...  Economy   \n",
       "\n",
       "                                       firstpagetext  wordscount  \n",
       "0  April 27, 2018 10:39 AM GMT\\n\\nUK Economics \\n...         784  \n",
       "1  May 10, 2018 06:11 PM GMT\\n\\nUK Economics & St...         708  \n",
       "2  April 30, 2018 04:00 AM GMT\\n\\nUK Economics & ...         738  \n",
       "3  May 3, 2018 10:25 AM GMT\\n\\nUK Economics & Str...         821  \n",
       "4  April 4, 2018 03:43 PM GMT\\n\\nUS/Asia Trade Po...         274  "
      ]
     },
     "execution_count": 14,
     "metadata": {},
     "output_type": "execute_result"
    }
   ],
   "source": [
    "myTextDF.head()"
   ]
  },
  {
   "cell_type": "markdown",
   "metadata": {},
   "source": [
    "Let's first try to explore the patterns within PDF metadata (page count, words count and file size)"
   ]
  },
  {
   "cell_type": "code",
   "execution_count": 30,
   "metadata": {},
   "outputs": [],
   "source": [
    "x = myTextDF['size_file'].astype(float)\n",
    "x = (x - np.average(x))*1E-6\n",
    "x = x.tolist()\n",
    "y = myTextDF['count_pages'].tolist()\n",
    "z = myTextDF['wordscount'].tolist()\n",
    "colors = myDataFrame['type_isSingleStock'].tolist()\n",
    "myFeatures=[[x[i],y[i],z[i]] for i in range(len(x))]"
   ]
  },
  {
   "cell_type": "code",
   "execution_count": 31,
   "metadata": {},
   "outputs": [],
   "source": [
    "my_features_train, my_features_test, my_labels_train, my_labels_test = sklearn.model_selection.train_test_split(myFeatures,colors, test_size=0.2,random_state=40)"
   ]
  },
  {
   "cell_type": "code",
   "execution_count": 32,
   "metadata": {},
   "outputs": [
    {
     "name": "stdout",
     "output_type": "stream",
     "text": [
      "Runtime is 2.9581406116485596s\n"
     ]
    }
   ],
   "source": [
    "startTime=time.time()\n",
    "my_SVC_meta=SVC(kernel='linear').fit(my_features_train,my_labels_train)\n",
    "print(\"Runtime is \"+ str(time.time()-startTime) + \"s\")"
   ]
  },
  {
   "cell_type": "code",
   "execution_count": 33,
   "metadata": {},
   "outputs": [
    {
     "data": {
      "text/plain": [
       "(0.6166666666666667,\n",
       " 0.6861403508771929,\n",
       " 0.6166666666666667,\n",
       " 0.5812393033323267)"
      ]
     },
     "execution_count": 33,
     "metadata": {},
     "output_type": "execute_result"
    }
   ],
   "source": [
    "my_labels_predicted=my_SVC_meta.predict(my_features_test)\n",
    "get_metrics(my_labels_test,my_labels_predicted)"
   ]
  },
  {
   "cell_type": "code",
   "execution_count": 34,
   "metadata": {},
   "outputs": [
    {
     "data": {
      "image/png": "[encoded data removed]",
      "text/plain": [
       "<Figure size 1152x1152 with 1 Axes>"
      ]
     },
     "metadata": {},
     "output_type": "display_data"
    }
   ],
   "source": [
    "fig = plt.figure(figsize=(16,16))\n",
    "ax = fig.add_subplot(111, projection='3d')\n",
    "ax.scatter(x,y,z,c=colors,depthshade=False)\n",
    "ax.set_xlabel('File Size')\n",
    "ax.set_ylabel('Page Count')\n",
    "ax.set_zlabel('Words Count')\n",
    "plt.show()"
   ]
  },
  {
   "cell_type": "markdown",
   "metadata": {},
   "source": [
    "Simple 3D plot and attempted SVM fitting doesn't show any clear pattern"
   ]
  },
  {
   "cell_type": "markdown",
   "metadata": {},
   "source": [
    "Let's work on the custom co-occurence technique now. We will use a list of tickers whose company are of interest to us"
   ]
  },
  {
   "cell_type": "code",
   "execution_count": 35,
   "metadata": {},
   "outputs": [
    {
     "data": {
      "text/plain": [
       "'Wells Fargo & Company '"
      ]
     },
     "execution_count": 35,
     "metadata": {},
     "output_type": "execute_result"
    }
   ],
   "source": [
    "myTickers = myTickerDF['Company Name']\n",
    "myTickers[14]"
   ]
  },
  {
   "cell_type": "code",
   "execution_count": 36,
   "metadata": {},
   "outputs": [],
   "source": [
    "exclusionList=['The ','the ',' Corporation',' corporation',' Corp',' corp',' Corp.',' corp.',' Incorporated',' incorporated',\n",
    "               ' Inc.',' inc.',' Limited',' limited',' Ltd.',' ltd.','L.P.',' Laboratories',' laboratories',' Funds',' funds',\n",
    "               ' Fund',' fund',' Holdings','holdings',' Holding',' holding',' Company',' company',' & Company',\n",
    "               ' & company',' Group',' group',' & Co.',' & co.',' Co.',' co.',' .com',',','-']\n",
    "myExclusions='|'.join(exclusionList)\n",
    "newTickersList=[re.sub(myExclusions,\"\",myTickers[i]) for i in range(len(myTickers))]\n",
    "for i in range(len(newTickersList)):\n",
    "        while newTickersList[i][-1:]==\" \":\n",
    "            newTickersList[i]=newTickersList[i][:-1]\n",
    "        while newTickersList[i][:1]==\" \":\n",
    "            newTickersList[i]=newTickersList[i][1:] "
   ]
  },
  {
   "cell_type": "code",
   "execution_count": 37,
   "metadata": {},
   "outputs": [
    {
     "data": {
      "text/plain": [
       "'Wells Fargo'"
      ]
     },
     "execution_count": 37,
     "metadata": {},
     "output_type": "execute_result"
    }
   ],
   "source": [
    "newTickersList[14]"
   ]
  },
  {
   "cell_type": "markdown",
   "metadata": {},
   "source": [
    "Building the cooccurence matrix based on company names solely"
   ]
  },
  {
   "cell_type": "code",
   "execution_count": 38,
   "metadata": {},
   "outputs": [
    {
     "name": "stdout",
     "output_type": "stream",
     "text": [
      "Runtime is 15.584805727005005s\n"
     ]
    }
   ],
   "source": [
    "startTime=time.time()\n",
    "myCoocList=[]\n",
    "k=0\n",
    "for document in myTextDF['firstpagetext']:\n",
    "    s=(len(myTextDF['firstpagetext'][k].split(\".\")),len(newTickersList))\n",
    "    myTextMatrix=np.zeros(s)\n",
    "    i=0\n",
    "    for sentence in myTextDF['firstpagetext'][k].split(\".\"):\n",
    "        j=0\n",
    "        for Ticker in newTickersList:\n",
    "            if Ticker in sentence:\n",
    "                myTextMatrix[i][j]+=1\n",
    "            j+=1\n",
    "        i+=1\n",
    "    k+=1\n",
    "    myTextMatrix.astype(int)\n",
    "    myCoocList.append(myTextMatrix.T.dot(myTextMatrix))\n",
    "print(\"Runtime is \"+ str(time.time()-startTime) + \"s\")"
   ]
  },
  {
   "cell_type": "markdown",
   "metadata": {},
   "source": [
    "The resulting matrices are extremely sparse: only 0.7% filled. Let's try to find better data representation"
   ]
  },
  {
   "cell_type": "code",
   "execution_count": 39,
   "metadata": {},
   "outputs": [],
   "source": [
    "Coocstats=[]\n",
    "for ligne in myCoocList:\n",
    "    countNotEmpty = 0\n",
    "    count=0\n",
    "    for colonne in ligne:\n",
    "        countNotEmpty+=colonne.sum()\n",
    "        count+=1\n",
    "    Coocstats.append(countNotEmpty/count*100)"
   ]
  },
  {
   "cell_type": "code",
   "execution_count": 40,
   "metadata": {},
   "outputs": [],
   "source": [
    "cooccurences_train, cooccurences_test, my_labels_cooc_train, my_labels_cooc_test = sklearn.model_selection.train_test_split(Coocstats,myListofLabels, test_size=0.2,random_state=40)"
   ]
  },
  {
   "cell_type": "code",
   "execution_count": 41,
   "metadata": {},
   "outputs": [
    {
     "data": {
      "text/plain": [
       "(0.6, 0.6577938316198944, 0.6, 0.6126473124461052)"
      ]
     },
     "execution_count": 41,
     "metadata": {},
     "output_type": "execute_result"
    }
   ],
   "source": [
    "my_SVC_cooc=SVC(kernel='linear').fit(np.array(cooccurences_train).reshape(-1, 1),my_labels_cooc_train)\n",
    "my_labels_cooc_predicted=my_SVC_cooc.predict(np.array(cooccurences_test).reshape(-1, 1))\n",
    "get_metrics(my_labels_cooc_predicted,my_labels_cooc_test)"
   ]
  },
  {
   "cell_type": "code",
   "execution_count": 42,
   "metadata": {},
   "outputs": [],
   "source": [
    "w=my_SVC_cooc.coef_"
   ]
  },
  {
   "cell_type": "code",
   "execution_count": 43,
   "metadata": {},
   "outputs": [],
   "source": [
    "color_dict = {0:'orange',1:'green'}\n",
    "colors_cooc=[color_dict[label] for label in my_labels_cooc_test]"
   ]
  },
  {
   "cell_type": "code",
   "execution_count": 44,
   "metadata": {},
   "outputs": [
    {
     "data": {
      "text/plain": [
       "<matplotlib.lines.Line2D at 0x7f5b296ecba8>"
      ]
     },
     "execution_count": 44,
     "metadata": {},
     "output_type": "execute_result"
    },
    {
     "data": {
      "image/png": "[encoded data removed]",
      "text/plain": [
       "<Figure size 432x288 with 1 Axes>"
      ]
     },
     "metadata": {},
     "output_type": "display_data"
    }
   ],
   "source": [
    "plt.figure()\n",
    "plt.scatter(range(len(cooccurences_train)),cooccurences_train,c=my_labels_cooc_train)\n",
    "plt.scatter(range(len(cooccurences_test)),cooccurences_test,c=colors_cooc)\n",
    "plt.axhline(y=w.tolist()[0][0])"
   ]
  },
  {
   "cell_type": "markdown",
   "metadata": {},
   "source": [
    "Results are pretty poor, there is no clear pattern for relationship between lots of ticker cooccurences and singlestock labelling contrary to what we expected."
   ]
  },
  {
   "cell_type": "markdown",
   "metadata": {},
   "source": [
    "We need to explore better ways to combine the different vector reprensentation for the PDF we are examining"
   ]
  },
  {
   "cell_type": "markdown",
   "metadata": {},
   "source": [
    "## Fourth strategy: combining the different vector representations"
   ]
  },
  {
   "cell_type": "code",
   "execution_count": 45,
   "metadata": {},
   "outputs": [],
   "source": [
    "my_list_of_names_tfidf = tfidf(myListofNames)[0]\n",
    "lsa = TruncatedSVD(n_components=20)\n",
    "lsa.fit(my_list_of_names_tfidf)\n",
    "lsa_scores = lsa.transform(my_list_of_names_tfidf)"
   ]
  },
  {
   "cell_type": "code",
   "execution_count": 46,
   "metadata": {},
   "outputs": [],
   "source": [
    "a = [[element] for element in x]\n",
    "b = [[element] for element in y]\n",
    "c = [[element] for element in z]\n",
    "d = [[element] for element in Coocstats]"
   ]
  },
  {
   "cell_type": "code",
   "execution_count": 47,
   "metadata": {},
   "outputs": [],
   "source": [
    "my_combined_features = np.concatenate((a,b,c,d,lsa_scores),1)"
   ]
  },
  {
   "cell_type": "code",
   "execution_count": 48,
   "metadata": {},
   "outputs": [],
   "source": [
    "my_combined_features_train, my_combined_features_test, my_labels_train, my_labels_test = sklearn.model_selection.train_test_split(my_combined_features, myListofLabels, test_size=0.2,random_state=40)"
   ]
  },
  {
   "cell_type": "code",
   "execution_count": 184,
   "metadata": {},
   "outputs": [
    {
     "data": {
      "text/plain": [
       "(0.9083333333333333,\n",
       " 0.9116791701398537,\n",
       " 0.9083333333333333,\n",
       " 0.9084288791605865)"
      ]
     },
     "execution_count": 184,
     "metadata": {},
     "output_type": "execute_result"
    }
   ],
   "source": [
    "my_SVC_combined = SVC(kernel='linear').fit(my_combined_features_train, my_labels_train)\n",
    "my_labels_predicted = my_SVC_combined.predict(my_combined_features_test)\n",
    "get_metrics(my_labels_predicted,my_labels_test)"
   ]
  },
  {
   "cell_type": "markdown",
   "metadata": {},
   "source": [
    "For whole TFIDF sparse matrix into SVM model, perf are (0.925, 0.9261878299527647, 0.925, 0.9250156260851448)"
   ]
  },
  {
   "cell_type": "markdown",
   "metadata": {},
   "source": [
    "For PCA-preprocessed TFIDF matrices with 20 components, perf are (0.9083333333333333, 0.9116791701398537, 0.9083333333333333, 0.9084288791605865)"
   ]
  },
  {
   "cell_type": "markdown",
   "metadata": {},
   "source": [
    "## Extended clustering: exploring 3D groups"
   ]
  },
  {
   "cell_type": "code",
   "execution_count": 18,
   "metadata": {},
   "outputs": [],
   "source": [
    "myCSVPath='/media/sf_Shared/Project_BNKE-EA/Database/Documents_NotesBroker_20180509/ExtractedText_Last.csv'"
   ]
  },
  {
   "cell_type": "code",
   "execution_count": 19,
   "metadata": {},
   "outputs": [],
   "source": [
    "my_new_text_DF = pd.read_csv(myCSVPath)"
   ]
  },
  {
   "cell_type": "code",
   "execution_count": 20,
   "metadata": {},
   "outputs": [
    {
     "data": {
      "text/html": [
       "<div>\n",
       "<style scoped>\n",
       "    .dataframe tbody tr th:only-of-type {\n",
       "        vertical-align: middle;\n",
       "    }\n",
       "\n",
       "    .dataframe tbody tr th {\n",
       "        vertical-align: top;\n",
       "    }\n",
       "\n",
       "    .dataframe thead th {\n",
       "        text-align: right;\n",
       "    }\n",
       "</style>\n",
       "<table border=\"1\" class=\"dataframe\">\n",
       "  <thead>\n",
       "    <tr style=\"text-align: right;\">\n",
       "      <th></th>\n",
       "      <th>Unnamed: 0</th>\n",
       "      <th>filename</th>\n",
       "      <th>category</th>\n",
       "      <th>firstpagetext</th>\n",
       "      <th>wordscount</th>\n",
       "    </tr>\n",
       "  </thead>\n",
       "  <tbody>\n",
       "    <tr>\n",
       "      <th>0</th>\n",
       "      <td>0</td>\n",
       "      <td>MorganStanley_UKEconomicsGDPCommentWeak,ButMay...</td>\n",
       "      <td>Economy</td>\n",
       "      <td>April 27, 2018 10:39 AM GMT\\n\\nUK Economics \\n...</td>\n",
       "      <td>784</td>\n",
       "    </tr>\n",
       "    <tr>\n",
       "      <th>1</th>\n",
       "      <td>1</td>\n",
       "      <td>MorganStanley_UKEconomicsStrategyMPCOnceaYearI...</td>\n",
       "      <td>Economy</td>\n",
       "      <td>May 10, 2018 06:11 PM GMT\\n\\nUK Economics &amp; St...</td>\n",
       "      <td>708</td>\n",
       "    </tr>\n",
       "    <tr>\n",
       "      <th>2</th>\n",
       "      <td>2</td>\n",
       "      <td>MorganStanley_UKEconomicsStrategyMPCPreviewHik...</td>\n",
       "      <td>Economy</td>\n",
       "      <td>April 30, 2018 04:00 AM GMT\\n\\nUK Economics &amp; ...</td>\n",
       "      <td>738</td>\n",
       "    </tr>\n",
       "    <tr>\n",
       "      <th>3</th>\n",
       "      <td>3</td>\n",
       "      <td>MorganStanley_UKEconomicsStrategyMPCWeakPMItoD...</td>\n",
       "      <td>Economy</td>\n",
       "      <td>May 3, 2018 10:25 AM GMT\\n\\nUK Economics &amp; Str...</td>\n",
       "      <td>821</td>\n",
       "    </tr>\n",
       "    <tr>\n",
       "      <th>4</th>\n",
       "      <td>4</td>\n",
       "      <td>MorganStanley_USAsiaTradePolicyCardsontheTable...</td>\n",
       "      <td>Economy</td>\n",
       "      <td>April 4, 2018 03:43 PM GMT\\n\\nUS/Asia Trade Po...</td>\n",
       "      <td>274</td>\n",
       "    </tr>\n",
       "  </tbody>\n",
       "</table>\n",
       "</div>"
      ],
      "text/plain": [
       "   Unnamed: 0                                           filename category  \\\n",
       "0           0  MorganStanley_UKEconomicsGDPCommentWeak,ButMay...  Economy   \n",
       "1           1  MorganStanley_UKEconomicsStrategyMPCOnceaYearI...  Economy   \n",
       "2           2  MorganStanley_UKEconomicsStrategyMPCPreviewHik...  Economy   \n",
       "3           3  MorganStanley_UKEconomicsStrategyMPCWeakPMItoD...  Economy   \n",
       "4           4  MorganStanley_USAsiaTradePolicyCardsontheTable...  Economy   \n",
       "\n",
       "                                       firstpagetext  wordscount  \n",
       "0  April 27, 2018 10:39 AM GMT\\n\\nUK Economics \\n...         784  \n",
       "1  May 10, 2018 06:11 PM GMT\\n\\nUK Economics & St...         708  \n",
       "2  April 30, 2018 04:00 AM GMT\\n\\nUK Economics & ...         738  \n",
       "3  May 3, 2018 10:25 AM GMT\\n\\nUK Economics & Str...         821  \n",
       "4  April 4, 2018 03:43 PM GMT\\n\\nUS/Asia Trade Po...         274  "
      ]
     },
     "execution_count": 20,
     "metadata": {},
     "output_type": "execute_result"
    }
   ],
   "source": [
    "my_new_text_DF.head()"
   ]
  },
  {
   "cell_type": "code",
   "execution_count": 122,
   "metadata": {},
   "outputs": [],
   "source": [
    "myNewTextDF['standardized_file_name'] = myNamesStandardizer(myNewTextDF['filename'].tolist())"
   ]
  },
  {
   "cell_type": "code",
   "execution_count": 137,
   "metadata": {},
   "outputs": [],
   "source": [
    "X_train3D, X_test3D, Y_train3D, Y_test3D = sklearn.model_selection.train_test_split(myNewTextDF['firstpagetext'].tolist(),myNewTextDF['category'].tolist(), test_size=0.2,random_state=40)"
   ]
  },
  {
   "cell_type": "code",
   "execution_count": 138,
   "metadata": {},
   "outputs": [],
   "source": [
    "for i, string in enumerate(X_train3D):\n",
    "    X_train3D[i]=re.sub(r\"\\n\",\" \",string)\n",
    "for j,string in enumerate(X_test3D):\n",
    "    X_test3D[j]=re.sub(r\"\\n\",\" \",string)"
   ]
  },
  {
   "cell_type": "code",
   "execution_count": 139,
   "metadata": {},
   "outputs": [],
   "source": [
    "X_train3D_tfidf, tfidf_vectorizer=tfidf(X_train3D)\n",
    "X_test3D_tfidf=tfidf_vectorizer.transform(X_test3D)"
   ]
  },
  {
   "cell_type": "code",
   "execution_count": 140,
   "metadata": {},
   "outputs": [],
   "source": [
    "def newplot_LSA(test_data, test_labels, plot=True,n_components=2):\n",
    "        lsa = TruncatedSVD(n_components=n_components)\n",
    "        lsa.fit(test_data)\n",
    "        lsa_scores = lsa.transform(test_data)\n",
    "        colors = {'SingleStock':'orange','Industry':'green','Economy':'blue'}\n",
    "        color_column=[]\n",
    "        for category in test_labels:\n",
    "            color_column.append(colors[category])\n",
    "        if plot:\n",
    "            plt.scatter(lsa_scores[:,0], lsa_scores[:,1], s=8, alpha=.8, c=color_column)\n",
    "            SingleStock_patch = mpatches.Patch(color='orange', label='Single Stock')\n",
    "            Industry_patch = mpatches.Patch(color='green', label='Industry')\n",
    "            Economy_patch = mpatches.Patch(color='blue', label='Economy')\n",
    "            plt.legend(handles=[SingleStock_patch,Industry_patch,Economy_patch])\n",
    "        return lsa_scores"
   ]
  },
  {
   "cell_type": "code",
   "execution_count": 141,
   "metadata": {},
   "outputs": [
    {
     "data": {
      "image/png": "[encoded data removed]",
      "text/plain": [
       "<Figure size 432x288 with 1 Axes>"
      ]
     },
     "metadata": {},
     "output_type": "display_data"
    }
   ],
   "source": [
    "fig = plt.figure()\n",
    "lsa_scores = newplot_LSA(X_train3D_tfidf,Y_train3D)\n",
    "plt.show()"
   ]
  },
  {
   "cell_type": "code",
   "execution_count": 142,
   "metadata": {},
   "outputs": [
    {
     "data": {
      "text/html": [
       "<div>\n",
       "<style scoped>\n",
       "    .dataframe tbody tr th:only-of-type {\n",
       "        vertical-align: middle;\n",
       "    }\n",
       "\n",
       "    .dataframe tbody tr th {\n",
       "        vertical-align: top;\n",
       "    }\n",
       "\n",
       "    .dataframe thead th {\n",
       "        text-align: right;\n",
       "    }\n",
       "</style>\n",
       "<table border=\"1\" class=\"dataframe\">\n",
       "  <thead>\n",
       "    <tr style=\"text-align: right;\">\n",
       "      <th></th>\n",
       "      <th>Accuracy</th>\n",
       "      <th>F1</th>\n",
       "      <th>Precision</th>\n",
       "      <th>Recall</th>\n",
       "    </tr>\n",
       "  </thead>\n",
       "  <tbody>\n",
       "    <tr>\n",
       "      <th>0</th>\n",
       "      <td>0.857143</td>\n",
       "      <td>0.858326</td>\n",
       "      <td>0.859849</td>\n",
       "      <td>0.857143</td>\n",
       "    </tr>\n",
       "  </tbody>\n",
       "</table>\n",
       "</div>"
      ],
      "text/plain": [
       "   Accuracy        F1  Precision    Recall\n",
       "0  0.857143  0.858326   0.859849  0.857143"
      ]
     },
     "execution_count": 142,
     "metadata": {},
     "output_type": "execute_result"
    }
   ],
   "source": [
    "mySVC_3D_TFIDF=SVC(kernel='linear').fit(X_train3D_tfidf,Y_train3D)\n",
    "Y_predicted3D_tfidf_SVC=mySVC_3D_TFIDF.predict(X_test3D_tfidf)\n",
    "get_metrics(Y_test3D,Y_predicted3D_tfidf_SVC)"
   ]
  },
  {
   "cell_type": "code",
   "execution_count": 78,
   "metadata": {},
   "outputs": [
    {
     "name": "stderr",
     "output_type": "stream",
     "text": [
      "UndefinedMetricWarning: Precision is ill-defined and being set to 0.0 in labels with no predicted samples. [classification.py:1135]\n",
      "UndefinedMetricWarning: F-score is ill-defined and being set to 0.0 in labels with no predicted samples. [classification.py:1135]\n"
     ]
    },
    {
     "data": {
      "text/plain": [
       "(0.4369747899159664,\n",
       " 0.45840137002668363,\n",
       " 0.4369747899159664,\n",
       " 0.34316643323996265)"
      ]
     },
     "execution_count": 78,
     "metadata": {},
     "output_type": "execute_result"
    }
   ],
   "source": [
    "mySVC_3D_TFIDF=SVC(kernel='rbf').fit(X_train3D_tfidf,Y_train3D)\n",
    "Y_predicted3D_tfidf_SVC=mySVC_3D_TFIDF.predict(X_test3D_tfidf)\n",
    "get_metrics(Y_test3D,Y_predicted3D_tfidf_SVC)"
   ]
  },
  {
   "cell_type": "markdown",
   "metadata": {},
   "source": [
    "The clusters for Industry and Economy seem well defined but there seem to be 2 different ones for Single Stock: let's try to find out why"
   ]
  },
  {
   "cell_type": "code",
   "execution_count": 110,
   "metadata": {},
   "outputs": [],
   "source": [
    "a=[0]\n",
    "for i, score in enumerate(lsa_scores):\n",
    "    if score[1]>0.2:\n",
    "        a.append(i)"
   ]
  },
  {
   "cell_type": "code",
   "execution_count": null,
   "metadata": {},
   "outputs": [],
   "source": []
  },
  {
   "cell_type": "markdown",
   "metadata": {},
   "source": [
    "## Applying NLP pre-processing methods"
   ]
  },
  {
   "cell_type": "markdown",
   "metadata": {},
   "source": [
    "Removing all email addresses"
   ]
  },
  {
   "cell_type": "code",
   "execution_count": 63,
   "metadata": {},
   "outputs": [],
   "source": [
    "import spacy\n",
    "nlp = spacy.load('en_core_web_sm')"
   ]
  },
  {
   "cell_type": "code",
   "execution_count": 140,
   "metadata": {},
   "outputs": [
    {
     "data": {
      "text/plain": [
       "\"April M GMT UK Economics UK Economics GDP Comment GDP Comment Weak, But May Still in Play Today's soft GDP print raises further risks to our call for a May hike. On balance, assuming next week's PMIs signal a rebound, we still expect the MPC to hike, given signs of rising homemade inflation. Transitory factors at work: First quarter GDP growth came in weaker than expected, at , or , a notable deceleration from the recorded in which was below consensus estimates of , and even our and NIESR's below consensus estimates of . However, the larger than expected slowdown largely reflects the weakest quarter in the construction sector since and we suspect that this was to a large extent driven by adverse weather. If it was transitory factors cutting into growth as we expect then we should see a rebound in and in next week’s PMI Services. Big downside on construction: Construction sector activity fell in the first quarter, accounting for a drag on GDP. Data for the construction sector are volatile, frequently subject to revision, and the industry is most readily impacted by adverse weather effects, as were present in For this reason, we don’t read too much into the softness in GDP growth. Elsewhere, industrial production accelerated on the quarter, growing , while the slowdown in the services sector was less marked than retail sales data and weak consumer indicators might have implied, with businessfacing services continuing to expand robustly. Consequently, we don't see the print signaling a material turn in the UK growth cycle, and expect activity to rebound in before more protracted weakness, associated with the Brexit endgame, in Rate rise in May still likely, provided next week's PMIs signal a rebound... With major downside surprises in growth and inflation with both ps lower than the MPC forecast in February there is a clear risk that the MPC stay on hold in May, as signalled by Governor Carney's recent comments. On balance, assuming that next week's Services PMI signal a rebound indicating that weakness was temporary we see a majority for a dovish MPC rate hike in May, given that the labour market has continued to tighten, and pay and domestic services have risen, pointing to rising domestic inflationary pressure. However, today's weak print increases the risk that the MPC delay in May, waiting for confirmation of a rebound before acting, which would imply an August hike. ... before a Brexitdriven slowdown: While today's data was largely driven by temporary factors, we're expecting a more protracted slowdown in the growth outlook later this year. On our forecast, growth will stall in late at the height of Brexitrelated uncertainty, before a lastminute deal supports a modest recovery in This more material slowdown in hould keep the MPC on hold through the Brexit endgame, we think, with two hikes likely once Brexit uncertainty has cleared somewhat in May and November MORGAN STANLEY CO. INTERNATIONAL PLC Jacob Nell ECONOMIST Exhibit A constructionled slowdown Real GDP Growth Services Production Construction Agriculture GDP Growth Source: ONS, Morgan Stanley Research We see three phases to growth: holding in a lower channel; standstill around the laterunch in Qhe Brexit talks; a modest ecovery after a deal Standstill Lower growth channel Modest recovery EU referendum K GDP profile, Q Average quarterly growth rate Q Exhibit Into a slower phase of growth EU referendum QLower growth channel Modest Standstill QSource: ONS, Morgan Stanley Research forecasts Exhibit Labour market tightness drives the MPC... Unemployment Economic Activity Rate Unemployment Rate Economic Activity Rate Current BoE estimate of longterm equilibrium urate Source: ONS, Morgan Stanley Research Exhibit ...and inflation remains above target CPI Inflation Target Forecast CPI Core CPI BoE Inflation Target BoE CPI Median Forecast Source: ONS, BoE, Morgan Stanley Research For important disclosures, refer to the Disclosure Section, located at the end of this report. \""
      ]
     },
     "execution_count": 140,
     "metadata": {},
     "output_type": "execute_result"
    }
   ],
   "source": [
    "test = my_new_text_DF['firstpagetext'][0]\n",
    "test = re.sub(\"\\w*\\.\\w*@morganstanley.com\", '', test)\n",
    "test = re.sub(\"(\\(.*\\))\", '', test)\n",
    "test = re.sub(\"\\+(\\d+(\\s|-)?)+\", '', test)\n",
    "test = re.sub(\"\\d+\\D{0,2}\", '', test)\n",
    "test = re.sub(\"[\\%\\\\\\|\\-\\+\\~\\&]\", '', test)\n",
    "test = re.sub(\"\\s+\", ' ',test)\n",
    "test"
   ]
  },
  {
   "cell_type": "code",
   "execution_count": 141,
   "metadata": {},
   "outputs": [
    {
     "data": {
      "text/plain": [
       "[]"
      ]
     },
     "execution_count": 141,
     "metadata": {},
     "output_type": "execute_result"
    }
   ],
   "source": [
    "test = my_new_text_DF['firstpagetext'][0]\n",
    "found = re.compile(\"nada\")\n",
    "found.findall(test)"
   ]
  },
  {
   "cell_type": "code",
   "execution_count": 142,
   "metadata": {},
   "outputs": [],
   "source": [
    "my_lemmatizer = spacy.lemmatizer.Lemmatizer()"
   ]
  },
  {
   "cell_type": "code",
   "execution_count": 144,
   "metadata": {},
   "outputs": [],
   "source": [
    "my_lemmas = my_lemmatizer(\"testing\", u'VERB')"
   ]
  },
  {
   "cell_type": "code",
   "execution_count": null,
   "metadata": {},
   "outputs": [],
   "source": []
  },
  {
   "cell_type": "markdown",
   "metadata": {},
   "source": []
  },
  {
   "cell_type": "code",
   "execution_count": null,
   "metadata": {},
   "outputs": [],
   "source": []
  },
  {
   "cell_type": "code",
   "execution_count": null,
   "metadata": {},
   "outputs": [],
   "source": []
  },
  {
   "cell_type": "code",
   "execution_count": null,
   "metadata": {},
   "outputs": [],
   "source": []
  }
 ],
 "metadata": {
  "kernelspec": {
   "display_name": "Python 3",
   "language": "python",
   "name": "python3"
  },
  "language_info": {
   "codemirror_mode": {
    "name": "ipython",
    "version": 3
   },
   "file_extension": ".py",
   "mimetype": "text/x-python",
   "name": "python",
   "nbconvert_exporter": "python",
   "pygments_lexer": "ipython3",
   "version": "3.5.2"
  }
 },
 "nbformat": 4,
 "nbformat_minor": 2
}
